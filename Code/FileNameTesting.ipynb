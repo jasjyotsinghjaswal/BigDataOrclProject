{
 "cells": [
  {
   "cell_type": "code",
   "execution_count": 1,
   "metadata": {},
   "outputs": [],
   "source": [
    "# Initialise Input And Output Dataset Path Variables\n",
    "input_dataset_path = \"C:/Users/Jasjyot Singh Jaswal/Documents/JupyterWB/BigDataOrclProject/InputDataset\"\n",
    "output_datset_path = \"C:/Users/Jasjyot Singh Jaswal/Documents/JupyterWB/BigDataOrclProject/OutputDataset\"\n",
    "output_datset_path_csv = f\"{output_datset_path}/CSV\"\n",
    "output_datset_path_pipe = f\"{output_datset_path}/PIPE\"\n",
    "output_datset_path_tab = f\"{output_datset_path}/TAB\"\n",
    "output_datset_path_json = f\"{output_datset_path}/JSON\""
   ]
  },
  {
   "cell_type": "code",
   "execution_count": 2,
   "metadata": {},
   "outputs": [],
   "source": [
    "import findspark\n",
    "findspark.init()\n",
    "import pyspark # only run after findspark.init()\n",
    "from pyspark.sql.functions import col, explode,coalesce\n",
    "from pyspark.sql import SparkSession\n",
    "from pyspark.sql.functions import udf\n",
    "from pyspark.sql.types import LongType\n",
    "from pyspark.sql.types import StructType\n",
    "from pyspark.sql.functions import udf\n",
    "from pyspark.sql import functions as f\n",
    "spark = SparkSession.builder.getOrCreate()\n",
    "import datetime\n",
    "from datetime import timedelta \n",
    "from pyspark.sql.types import ArrayType\n",
    "from pyspark.sql.functions import split\n",
    "from pyspark.sql.types import StringType\n",
    "from pyspark.sql import functions\n",
    "from pyspark.sql.window import Window\n",
    "from pyspark.sql.functions import *"
   ]
  },
  {
   "cell_type": "code",
   "execution_count": 3,
   "metadata": {},
   "outputs": [],
   "source": [
    "cust_info = spark.read.option(\"header\", \"true\").csv(f\"{input_dataset_path}/customer_*_information.csv\")"
   ]
  },
  {
   "cell_type": "code",
   "execution_count": 4,
   "metadata": {},
   "outputs": [
    {
     "name": "stdout",
     "output_type": "stream",
     "text": [
      "+----------+-----------------+----------------+------------------------+\n",
      "|CustomerID|CustomerFirstName|CustomerLastName|StreetAddress           |\n",
      "+----------+-----------------+----------------+------------------------+\n",
      "|custID01  |Mikel            |Rankling        |2901 American Ash Road  |\n",
      "|custID02  |Nial             |Rentcome        |08928 Sunfield Plaza    |\n",
      "|custID03  |Leon             |Coales          |546 Darwin Park         |\n",
      "|custID04  |Timothy          |Southon         |79507 Scott Court       |\n",
      "|custID05  |Thedric          |Firbank         |755 Ramsey Terrace      |\n",
      "|custID06  |Gerrie           |Barr            |477 Havey Hill          |\n",
      "|custID07  |Hagen            |Maris           |7864 Hoepker Crossing   |\n",
      "|custID08  |Winthrop         |Lantaph         |92172 Stoughton Court   |\n",
      "|custID09  |Martainn         |Couch           |167 Calypso Terrace     |\n",
      "|custID10  |Marcos           |Perrin          |223 Paget Road          |\n",
      "|custID11  |Trev             |Stanyer         |8 Fairfield Crossing    |\n",
      "|custID12  |Glenn            |Leport          |8 Tomscot Place         |\n",
      "|custID13  |Odell            |Wakley          |52 Orin Avenue          |\n",
      "|custID14  |Vale             |Bodega          |35 Fisk Alley           |\n",
      "|custID15  |Shelton          |Reddings        |78147 Hayes Park        |\n",
      "|custID16  |Robert           |Stout           |6340 Chive Park         |\n",
      "|custID17  |Rube             |Moralee         |29 Spenser Hill         |\n",
      "|custID18  |Paddy            |Scamwell        |807 Maywood Place       |\n",
      "|custID19  |Franklin         |Skouling        |65288 Anniversary Street|\n",
      "|custID20  |Nevins           |Taplin          |2378 Corben Hill        |\n",
      "+----------+-----------------+----------------+------------------------+\n",
      "only showing top 20 rows\n",
      "\n"
     ]
    }
   ],
   "source": [
    "cust_info.show(truncate=False)"
   ]
  },
  {
   "cell_type": "code",
   "execution_count": 5,
   "metadata": {},
   "outputs": [
    {
     "data": {
      "text/plain": [
       "50"
      ]
     },
     "execution_count": 5,
     "metadata": {},
     "output_type": "execute_result"
    }
   ],
   "source": [
    "cust_info.count()"
   ]
  },
  {
   "cell_type": "code",
   "execution_count": null,
   "metadata": {},
   "outputs": [],
   "source": []
  }
 ],
 "metadata": {
  "kernelspec": {
   "display_name": "Python 3",
   "language": "python",
   "name": "python3"
  },
  "language_info": {
   "codemirror_mode": {
    "name": "ipython",
    "version": 3
   },
   "file_extension": ".py",
   "mimetype": "text/x-python",
   "name": "python",
   "nbconvert_exporter": "python",
   "pygments_lexer": "ipython3",
   "version": "3.7.5"
  },
  "varInspector": {
   "cols": {
    "lenName": 16,
    "lenType": 16,
    "lenVar": 40
   },
   "kernels_config": {
    "python": {
     "delete_cmd_postfix": "",
     "delete_cmd_prefix": "del ",
     "library": "var_list.py",
     "varRefreshCmd": "print(var_dic_list())"
    },
    "r": {
     "delete_cmd_postfix": ") ",
     "delete_cmd_prefix": "rm(",
     "library": "var_list.r",
     "varRefreshCmd": "cat(var_dic_list()) "
    }
   },
   "types_to_exclude": [
    "module",
    "function",
    "builtin_function_or_method",
    "instance",
    "_Feature"
   ],
   "window_display": false
  }
 },
 "nbformat": 4,
 "nbformat_minor": 2
}
