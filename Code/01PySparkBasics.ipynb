{
 "cells": [
  {
   "cell_type": "markdown",
   "metadata": {},
   "source": [
    "# This notebook is going to teach you how to perform basic pyspark operations"
   ]
  },
  {
   "cell_type": "code",
   "execution_count": 49,
   "metadata": {},
   "outputs": [],
   "source": [
    "# Initialise Input And Output Dataset Path Variables\n",
    "input_dataset_path = \"C:/Users/Jasjyot Singh Jaswal/Documents/JupyterWB/BigDataOrclProject/InputDataset\"\n",
    "output_datset_path = \"C:/Users/Jasjyot Singh Jaswal/Documents/JupyterWB/BigDataOrclProject/OutputDataset\"\n",
    "output_datset_path_csv = f\"{output_datset_path}/CSV\"\n",
    "output_datset_path_pipe = f\"{output_datset_path}/PIPE\"\n",
    "output_datset_path_tab = f\"{output_datset_path}/TAB\"\n",
    "output_datset_path_json = f\"{output_datset_path}/JSON\""
   ]
  },
  {
   "cell_type": "markdown",
   "metadata": {},
   "source": [
    "## Import Dependencies"
   ]
  },
  {
   "cell_type": "code",
   "execution_count": 44,
   "metadata": {},
   "outputs": [],
   "source": [
    "import findspark\n",
    "findspark.init()\n",
    "import pyspark # only run after findspark.init()\n",
    "from pyspark.sql.functions import col, explode,coalesce\n",
    "from pyspark.sql import SparkSession\n",
    "from pyspark.sql.functions import udf\n",
    "from pyspark.sql.types import LongType\n",
    "from pyspark.sql.types import StructType\n",
    "from pyspark.sql.functions import udf\n",
    "from pyspark.sql import functions as f\n",
    "spark = SparkSession.builder.getOrCreate()\n",
    "import datetime\n",
    "from datetime import timedelta \n",
    "from pyspark.sql.types import ArrayType\n",
    "from pyspark.sql.functions import split\n",
    "from pyspark.sql.types import StringType\n",
    "from pyspark.sql import functions\n",
    "from pyspark.sql.window import Window\n",
    "from pyspark.sql.functions import *"
   ]
  },
  {
   "cell_type": "markdown",
   "metadata": {},
   "source": [
    "## Load Input Dataset for Web Visitors and Display"
   ]
  },
  {
   "cell_type": "code",
   "execution_count": 3,
   "metadata": {
    "scrolled": true
   },
   "outputs": [
    {
     "name": "stdout",
     "output_type": "stream",
     "text": [
      "+----------+----------+----------+----------------------------------+------+---------------+\n",
      "|visitor_id|first_name|last_name |email                             |gender|ip_address     |\n",
      "+----------+----------+----------+----------------------------------+------+---------------+\n",
      "|1         |Marysa    |Arnull    |marnull0@t.co                     |Female|148.118.170.117|\n",
      "|2         |Alys      |Mapledoram|amapledoram1@amazon.co.jp         |Female|189.249.7.22   |\n",
      "|null      |Pepi      |Kilbourne |null                              |Female|84.196.181.206 |\n",
      "|4         |Irita     |Coltan    |icoltan3@reddit.com               |Female|103.96.233.190 |\n",
      "|5         |Wilburt   |Sheals    |wsheals4@ebay.com                 |Male  |51.106.36.130  |\n",
      "|6         |Viviene   |Ewestace  |vewestace5@cnbc.com               |Female|189.8.44.77    |\n",
      "|7         |Grange    |Bernhardt |gbernhardt6@nationalgeographic.com|Male  |237.92.0.252   |\n",
      "|8         |Boris     |Gladdish  |bgladdish7@rakuten.co.jp          |Male  |214.120.52.45  |\n",
      "|9         |Eldon     |Hamstead  |ehamstead8@issuu.com              |Male  |181.51.131.114 |\n",
      "|10        |Patrice   |Buske     |pbuske9@shop-pro.jp               |Male  |8.4.93.195     |\n",
      "|11        |Fallon    |Saint     |fsainta@youtu.be                  |Female|28.41.126.59   |\n",
      "|12        |Falkner   |Merrgan   |fmerrganb@mac.com                 |Male  |75.160.5.11    |\n",
      "|null      |Shanta    |Tumber    |null                              |Female|71.102.214.197 |\n",
      "|14        |Daloris   |Howood    |dhowoodd@jiathis.com              |Female|108.63.219.36  |\n",
      "|15        |Augustus  |Lockney   |alockneye@ehow.com                |Male  |62.178.138.189 |\n",
      "|16        |Cissy     |Fetherby  |cfetherbyf@ovh.net                |Female|49.136.89.178  |\n",
      "|17        |Evered    |Demsey    |edemseyg@cloudflare.com           |Male  |109.147.148.147|\n",
      "|18        |Rube      |Astill    |rastillh@timesonline.co.uk        |Male  |88.111.38.168  |\n",
      "|19        |Saunderson|Di Ruggero|sdiruggeroi@reverbnation.com      |Male  |205.216.12.141 |\n",
      "|20        |Frederick |Dow       |fdowj@bbc.co.uk                   |Male  |0.148.192.9    |\n",
      "+----------+----------+----------+----------------------------------+------+---------------+\n",
      "only showing top 20 rows\n",
      "\n"
     ]
    }
   ],
   "source": [
    "web_visits = spark.read.option(\"header\", \"true\").csv(f\"{input_dataset_path}/webiste_visitor_data.csv\")\n",
    "web_visits.show(truncate=False)"
   ]
  },
  {
   "cell_type": "code",
   "execution_count": 4,
   "metadata": {},
   "outputs": [],
   "source": [
    "###  A. Selecting only First_Name,Last_Name,Email using Select API. \n",
    "###     Also renaming field Email to MailID using withColumnRenamed"
   ]
  },
  {
   "cell_type": "code",
   "execution_count": 5,
   "metadata": {},
   "outputs": [
    {
     "name": "stdout",
     "output_type": "stream",
     "text": [
      "+----------+----------+----------------------------------+\n",
      "|first_name|last_name |mail-id                           |\n",
      "+----------+----------+----------------------------------+\n",
      "|Marysa    |Arnull    |marnull0@t.co                     |\n",
      "|Alys      |Mapledoram|amapledoram1@amazon.co.jp         |\n",
      "|Pepi      |Kilbourne |null                              |\n",
      "|Irita     |Coltan    |icoltan3@reddit.com               |\n",
      "|Wilburt   |Sheals    |wsheals4@ebay.com                 |\n",
      "|Viviene   |Ewestace  |vewestace5@cnbc.com               |\n",
      "|Grange    |Bernhardt |gbernhardt6@nationalgeographic.com|\n",
      "|Boris     |Gladdish  |bgladdish7@rakuten.co.jp          |\n",
      "|Eldon     |Hamstead  |ehamstead8@issuu.com              |\n",
      "|Patrice   |Buske     |pbuske9@shop-pro.jp               |\n",
      "|Fallon    |Saint     |fsainta@youtu.be                  |\n",
      "|Falkner   |Merrgan   |fmerrganb@mac.com                 |\n",
      "|Shanta    |Tumber    |null                              |\n",
      "|Daloris   |Howood    |dhowoodd@jiathis.com              |\n",
      "|Augustus  |Lockney   |alockneye@ehow.com                |\n",
      "|Cissy     |Fetherby  |cfetherbyf@ovh.net                |\n",
      "|Evered    |Demsey    |edemseyg@cloudflare.com           |\n",
      "|Rube      |Astill    |rastillh@timesonline.co.uk        |\n",
      "|Saunderson|Di Ruggero|sdiruggeroi@reverbnation.com      |\n",
      "|Frederick |Dow       |fdowj@bbc.co.uk                   |\n",
      "+----------+----------+----------------------------------+\n",
      "only showing top 20 rows\n",
      "\n"
     ]
    }
   ],
   "source": [
    "web_visit_with_name_mail = web_visits.select(\"first_name\",\"last_name\",\"email\").withColumnRenamed(\"email\",\"mail-id\")\n",
    "web_visit_with_name_mail.show(truncate=False)"
   ]
  },
  {
   "cell_type": "code",
   "execution_count": 6,
   "metadata": {},
   "outputs": [],
   "source": [
    "### B. Selecting only IP Address & Gender by dropping other fields using DROP API"
   ]
  },
  {
   "cell_type": "code",
   "execution_count": 7,
   "metadata": {},
   "outputs": [
    {
     "name": "stdout",
     "output_type": "stream",
     "text": [
      "+------+---------------+\n",
      "|gender|ip_address     |\n",
      "+------+---------------+\n",
      "|Female|148.118.170.117|\n",
      "|Female|189.249.7.22   |\n",
      "|Female|84.196.181.206 |\n",
      "|Female|103.96.233.190 |\n",
      "|Male  |51.106.36.130  |\n",
      "|Female|189.8.44.77    |\n",
      "|Male  |237.92.0.252   |\n",
      "|Male  |214.120.52.45  |\n",
      "|Male  |181.51.131.114 |\n",
      "|Male  |8.4.93.195     |\n",
      "|Female|28.41.126.59   |\n",
      "|Male  |75.160.5.11    |\n",
      "|Female|71.102.214.197 |\n",
      "|Female|108.63.219.36  |\n",
      "|Male  |62.178.138.189 |\n",
      "|Female|49.136.89.178  |\n",
      "|Male  |109.147.148.147|\n",
      "|Male  |88.111.38.168  |\n",
      "|Male  |205.216.12.141 |\n",
      "|Male  |0.148.192.9    |\n",
      "+------+---------------+\n",
      "only showing top 20 rows\n",
      "\n"
     ]
    }
   ],
   "source": [
    "visitor_ip_gender = web_visits.drop(\"first_name\",\"last_name\",\"email\",\"visitor_id\")\n",
    "visitor_ip_gender.show(truncate=False)"
   ]
  },
  {
   "cell_type": "code",
   "execution_count": 8,
   "metadata": {},
   "outputs": [],
   "source": [
    "### C. Show Simple Transformation such as Concat by using Oringinal Input by contactenating First & Last Name. \n",
    "###    Also Prefix Constant Mr. Or Mrs. depending on value of gender.\n",
    "###    Use function lit to append constants & When/Otherwise to evaluate condition for Gender\n",
    "###    For inappropriate gender or null values omit Mr/Mrs and simply concatenate"
   ]
  },
  {
   "cell_type": "code",
   "execution_count": 9,
   "metadata": {},
   "outputs": [
    {
     "name": "stdout",
     "output_type": "stream",
     "text": [
      "+----------+----------+----------+----------------------------------+------+---------------+------------------------+\n",
      "|visitor_id|first_name|last_name |email                             |gender|ip_address     |fullName                |\n",
      "+----------+----------+----------+----------------------------------+------+---------------+------------------------+\n",
      "|1         |Marysa    |Arnull    |marnull0@t.co                     |Female|148.118.170.117|Mrs. MarysaArnull       |\n",
      "|2         |Alys      |Mapledoram|amapledoram1@amazon.co.jp         |Female|189.249.7.22   |Mrs. AlysMapledoram     |\n",
      "|null      |Pepi      |Kilbourne |null                              |Female|84.196.181.206 |Mrs. PepiKilbourne      |\n",
      "|4         |Irita     |Coltan    |icoltan3@reddit.com               |Female|103.96.233.190 |Mrs. IritaColtan        |\n",
      "|5         |Wilburt   |Sheals    |wsheals4@ebay.com                 |Male  |51.106.36.130  |Mr. WilburtSheals       |\n",
      "|6         |Viviene   |Ewestace  |vewestace5@cnbc.com               |Female|189.8.44.77    |Mrs. VivieneEwestace    |\n",
      "|7         |Grange    |Bernhardt |gbernhardt6@nationalgeographic.com|Male  |237.92.0.252   |Mr. GrangeBernhardt     |\n",
      "|8         |Boris     |Gladdish  |bgladdish7@rakuten.co.jp          |Male  |214.120.52.45  |Mr. BorisGladdish       |\n",
      "|9         |Eldon     |Hamstead  |ehamstead8@issuu.com              |Male  |181.51.131.114 |Mr. EldonHamstead       |\n",
      "|10        |Patrice   |Buske     |pbuske9@shop-pro.jp               |Male  |8.4.93.195     |Mr. PatriceBuske        |\n",
      "|11        |Fallon    |Saint     |fsainta@youtu.be                  |Female|28.41.126.59   |Mrs. FallonSaint        |\n",
      "|12        |Falkner   |Merrgan   |fmerrganb@mac.com                 |Male  |75.160.5.11    |Mr. FalknerMerrgan      |\n",
      "|null      |Shanta    |Tumber    |null                              |Female|71.102.214.197 |Mrs. ShantaTumber       |\n",
      "|14        |Daloris   |Howood    |dhowoodd@jiathis.com              |Female|108.63.219.36  |Mrs. DalorisHowood      |\n",
      "|15        |Augustus  |Lockney   |alockneye@ehow.com                |Male  |62.178.138.189 |Mr. AugustusLockney     |\n",
      "|16        |Cissy     |Fetherby  |cfetherbyf@ovh.net                |Female|49.136.89.178  |Mrs. CissyFetherby      |\n",
      "|17        |Evered    |Demsey    |edemseyg@cloudflare.com           |Male  |109.147.148.147|Mr. EveredDemsey        |\n",
      "|18        |Rube      |Astill    |rastillh@timesonline.co.uk        |Male  |88.111.38.168  |Mr. RubeAstill          |\n",
      "|19        |Saunderson|Di Ruggero|sdiruggeroi@reverbnation.com      |Male  |205.216.12.141 |Mr. SaundersonDi Ruggero|\n",
      "|20        |Frederick |Dow       |fdowj@bbc.co.uk                   |Male  |0.148.192.9    |Mr. FrederickDow        |\n",
      "+----------+----------+----------+----------------------------------+------+---------------+------------------------+\n",
      "only showing top 20 rows\n",
      "\n"
     ]
    }
   ],
   "source": [
    "web_visit_with_fullname = web_visits.withColumn(\"fullName\",\n",
    " when(col(\"gender\") == \"Male\",f.concat(lit(\"Mr. \"),col(\"first_name\"),col(\"last_name\"))) \\\n",
    ".when(col(\"gender\") == \"Female\",f.concat(lit(\"Mrs. \"),col(\"first_name\"),col(\"last_name\"))) \\\n",
    ".otherwise(f.concat(col(\"first_name\"),col(\"last_name\"))))\n",
    "\n",
    "web_visit_with_fullname.show(truncate=False)"
   ]
  },
  {
   "cell_type": "code",
   "execution_count": 10,
   "metadata": {},
   "outputs": [],
   "source": [
    "### D.Filter Rows from Original source where Gender is Invalid & Display the sample along with count.\n",
    "###   Also validate the FullName values which do not have Mr. / Mrs. & Display the sample along with count from C.\n",
    "###   The Count for both should be the same validating the transformation applied is correct"
   ]
  },
  {
   "cell_type": "code",
   "execution_count": 11,
   "metadata": {},
   "outputs": [],
   "source": [
    "### PART1 Check Source"
   ]
  },
  {
   "cell_type": "code",
   "execution_count": 12,
   "metadata": {},
   "outputs": [],
   "source": [
    "org_rec_with_invalid_gender = web_visits.filter( (((col(\"gender\") == \"Male\") | (col(\"gender\") == \"Female\" )) != True)  | (col(\"gender\").isNull()) == True ) \n",
    "src_invalid_gender_count = org_rec_with_invalid_gender.count()"
   ]
  },
  {
   "cell_type": "code",
   "execution_count": 13,
   "metadata": {},
   "outputs": [
    {
     "name": "stdout",
     "output_type": "stream",
     "text": [
      "+----------+----------+---------+--------------------------+-------------+--------------+\n",
      "|visitor_id|first_name|last_name|email                     |gender       |ip_address    |\n",
      "+----------+----------+---------+--------------------------+-------------+--------------+\n",
      "|null      |Vasili    |Notman   |null                      |HRWMale      |240.10.38.196 |\n",
      "|109       |Ferrel    |Leopard  |fleopard30@feedburner.com |MaleDER      |175.110.87.150|\n",
      "|135       |Lavina    |Hardway  |lhardway3q@e-recht24.de   |FemalePNPSPAP|49.91.83.178  |\n",
      "|144       |Tabitha   |Wallen   |twallen3z@altervista.org  |null         |17.250.15.126 |\n",
      "|991       |Davin     |Ayer     |dayerri@barnesandnoble.com|null         |88.138.125.228|\n",
      "+----------+----------+---------+--------------------------+-------------+--------------+\n",
      "\n"
     ]
    }
   ],
   "source": [
    "org_rec_with_invalid_gender.show(truncate=False)"
   ]
  },
  {
   "cell_type": "code",
   "execution_count": 14,
   "metadata": {},
   "outputs": [
    {
     "data": {
      "text/plain": [
       "5"
      ]
     },
     "execution_count": 14,
     "metadata": {},
     "output_type": "execute_result"
    }
   ],
   "source": [
    "src_invalid_gender_count"
   ]
  },
  {
   "cell_type": "code",
   "execution_count": 15,
   "metadata": {},
   "outputs": [],
   "source": [
    "### PART2 Check Transformed Values.\n",
    "### Use startswith Function to ensure column Value Starts with Mr. or Mrs."
   ]
  },
  {
   "cell_type": "code",
   "execution_count": 16,
   "metadata": {},
   "outputs": [],
   "source": [
    "output_rec_with_invalid_fullnm = web_visit_with_fullname.filter((col(\"fullName\").startswith(\"Mr.\") != True) & (col(\"fullName\").startswith(\"Mrs.\") != True))\n",
    "invalid_fullnm_count = output_rec_with_invalid_fullnm.count()"
   ]
  },
  {
   "cell_type": "code",
   "execution_count": 17,
   "metadata": {},
   "outputs": [
    {
     "name": "stdout",
     "output_type": "stream",
     "text": [
      "+----------+----------+---------+--------------------------+-------------+--------------+-------------+\n",
      "|visitor_id|first_name|last_name|email                     |gender       |ip_address    |fullName     |\n",
      "+----------+----------+---------+--------------------------+-------------+--------------+-------------+\n",
      "|null      |Vasili    |Notman   |null                      |HRWMale      |240.10.38.196 |VasiliNotman |\n",
      "|109       |Ferrel    |Leopard  |fleopard30@feedburner.com |MaleDER      |175.110.87.150|FerrelLeopard|\n",
      "|135       |Lavina    |Hardway  |lhardway3q@e-recht24.de   |FemalePNPSPAP|49.91.83.178  |LavinaHardway|\n",
      "|144       |Tabitha   |Wallen   |twallen3z@altervista.org  |null         |17.250.15.126 |TabithaWallen|\n",
      "|991       |Davin     |Ayer     |dayerri@barnesandnoble.com|null         |88.138.125.228|DavinAyer    |\n",
      "+----------+----------+---------+--------------------------+-------------+--------------+-------------+\n",
      "\n"
     ]
    }
   ],
   "source": [
    "output_rec_with_invalid_fullnm.show(truncate=False)"
   ]
  },
  {
   "cell_type": "code",
   "execution_count": 18,
   "metadata": {},
   "outputs": [
    {
     "data": {
      "text/plain": [
       "5"
      ]
     },
     "execution_count": 18,
     "metadata": {},
     "output_type": "execute_result"
    }
   ],
   "source": [
    "invalid_fullnm_count"
   ]
  },
  {
   "cell_type": "code",
   "execution_count": null,
   "metadata": {},
   "outputs": [],
   "source": [
    "### E. Find Counts And Display Rows Having null values for Visitor ID.\n",
    "### Use Coalesce to use ip_address as visitor id, if visitor id is blank"
   ]
  },
  {
   "cell_type": "code",
   "execution_count": null,
   "metadata": {},
   "outputs": [],
   "source": [
    "### PART1 Find Counts of source with null values for visitor id and display sample\n",
    "### Sort/OrderBy by ip_address to ensure same 20 results are visible before and after coalsesce"
   ]
  },
  {
   "cell_type": "code",
   "execution_count": 20,
   "metadata": {},
   "outputs": [],
   "source": [
    "web_visits_null_visitorid = web_visits.filter(col(\"visitor_id\").isNull())\n",
    "null_visitorid_count = web_visits_null_visitorid.count()"
   ]
  },
  {
   "cell_type": "code",
   "execution_count": 30,
   "metadata": {},
   "outputs": [
    {
     "name": "stdout",
     "output_type": "stream",
     "text": [
      "+----------+----------+---------+-----+-------+---------------+\n",
      "|visitor_id|first_name|last_name|email|gender |ip_address     |\n",
      "+----------+----------+---------+-----+-------+---------------+\n",
      "|null      |Kerk      |Realph   |null |Male   |97.11.198.152  |\n",
      "|null      |Mersey    |Edgeworth|null |Female |94.248.246.40  |\n",
      "|null      |Nobe      |Graalman |null |Male   |92.191.8.232   |\n",
      "|null      |Pepi      |Kilbourne|null |Female |84.196.181.206 |\n",
      "|null      |Carmelita |Camock   |null |Female |75.195.58.173  |\n",
      "|null      |Mack      |Poser    |null |Male   |72.122.182.45  |\n",
      "|null      |Shanta    |Tumber   |null |Female |71.102.214.197 |\n",
      "|null      |Irita     |Folli    |null |Female |7.217.3.163    |\n",
      "|null      |Rupert    |Stiegars |null |Male   |69.237.226.67  |\n",
      "|null      |Conant    |Hawler   |null |Male   |57.94.26.165   |\n",
      "|null      |Kippy     |Glisenan |null |Male   |55.81.243.209  |\n",
      "|null      |Stephenie |Kilpin   |null |Female |53.48.126.221  |\n",
      "|null      |Vania     |Wrassell |null |Female |50.209.34.232  |\n",
      "|null      |Denna     |Reston   |null |Female |48.246.113.39  |\n",
      "|null      |Sonnie    |Jenkinson|null |Male   |45.54.66.84    |\n",
      "|null      |Christye  |Colcutt  |null |Female |26.177.62.144  |\n",
      "|null      |Llewellyn |Bulpitt  |null |Male   |255.212.85.194 |\n",
      "|null      |Casi      |Stonnell |null |Female |249.207.212.211|\n",
      "|null      |Blisse    |Guisby   |null |Female |249.15.78.182  |\n",
      "|null      |Vasili    |Notman   |null |HRWMale|240.10.38.196  |\n",
      "+----------+----------+---------+-----+-------+---------------+\n",
      "only showing top 20 rows\n",
      "\n"
     ]
    }
   ],
   "source": [
    "web_visits_null_visitorid.orderBy(col(\"ip_address\").desc()).show(truncate=False)"
   ]
  },
  {
   "cell_type": "code",
   "execution_count": 31,
   "metadata": {},
   "outputs": [
    {
     "data": {
      "text/plain": [
       "65"
      ]
     },
     "execution_count": 31,
     "metadata": {},
     "output_type": "execute_result"
    }
   ],
   "source": [
    "null_visitorid_count"
   ]
  },
  {
   "cell_type": "code",
   "execution_count": 32,
   "metadata": {},
   "outputs": [],
   "source": [
    "### PART2 ApplyCoalesce Transformation for Source\n",
    "### Filter visitorid having '.' using contains function to find how many records were impacted by coalesce & Take count.\n",
    "### Display Sample Records and Sort/OrderBy IP Address descending to compare same set of records"
   ]
  },
  {
   "cell_type": "code",
   "execution_count": 34,
   "metadata": {},
   "outputs": [],
   "source": [
    "web_visits_coalesced_visitorid = web_visits.withColumn(\"visitor_id\",coalesce(col(\"visitor_id\"),col(\"ip_address\")))"
   ]
  },
  {
   "cell_type": "code",
   "execution_count": 35,
   "metadata": {},
   "outputs": [
    {
     "name": "stdout",
     "output_type": "stream",
     "text": [
      "+--------------+----------+----------+----------------------------------+------+---------------+\n",
      "|visitor_id    |first_name|last_name |email                             |gender|ip_address     |\n",
      "+--------------+----------+----------+----------------------------------+------+---------------+\n",
      "|1             |Marysa    |Arnull    |marnull0@t.co                     |Female|148.118.170.117|\n",
      "|2             |Alys      |Mapledoram|amapledoram1@amazon.co.jp         |Female|189.249.7.22   |\n",
      "|84.196.181.206|Pepi      |Kilbourne |null                              |Female|84.196.181.206 |\n",
      "|4             |Irita     |Coltan    |icoltan3@reddit.com               |Female|103.96.233.190 |\n",
      "|5             |Wilburt   |Sheals    |wsheals4@ebay.com                 |Male  |51.106.36.130  |\n",
      "|6             |Viviene   |Ewestace  |vewestace5@cnbc.com               |Female|189.8.44.77    |\n",
      "|7             |Grange    |Bernhardt |gbernhardt6@nationalgeographic.com|Male  |237.92.0.252   |\n",
      "|8             |Boris     |Gladdish  |bgladdish7@rakuten.co.jp          |Male  |214.120.52.45  |\n",
      "|9             |Eldon     |Hamstead  |ehamstead8@issuu.com              |Male  |181.51.131.114 |\n",
      "|10            |Patrice   |Buske     |pbuske9@shop-pro.jp               |Male  |8.4.93.195     |\n",
      "|11            |Fallon    |Saint     |fsainta@youtu.be                  |Female|28.41.126.59   |\n",
      "|12            |Falkner   |Merrgan   |fmerrganb@mac.com                 |Male  |75.160.5.11    |\n",
      "|71.102.214.197|Shanta    |Tumber    |null                              |Female|71.102.214.197 |\n",
      "|14            |Daloris   |Howood    |dhowoodd@jiathis.com              |Female|108.63.219.36  |\n",
      "|15            |Augustus  |Lockney   |alockneye@ehow.com                |Male  |62.178.138.189 |\n",
      "|16            |Cissy     |Fetherby  |cfetherbyf@ovh.net                |Female|49.136.89.178  |\n",
      "|17            |Evered    |Demsey    |edemseyg@cloudflare.com           |Male  |109.147.148.147|\n",
      "|18            |Rube      |Astill    |rastillh@timesonline.co.uk        |Male  |88.111.38.168  |\n",
      "|19            |Saunderson|Di Ruggero|sdiruggeroi@reverbnation.com      |Male  |205.216.12.141 |\n",
      "|20            |Frederick |Dow       |fdowj@bbc.co.uk                   |Male  |0.148.192.9    |\n",
      "+--------------+----------+----------+----------------------------------+------+---------------+\n",
      "only showing top 20 rows\n",
      "\n"
     ]
    }
   ],
   "source": [
    "web_visits_coalesced_visitorid.show(truncate=False)"
   ]
  },
  {
   "cell_type": "code",
   "execution_count": 40,
   "metadata": {},
   "outputs": [],
   "source": [
    "coalesced_visitorid_records = web_visits_coalesced_visitorid.filter(col(\"visitor_id\").contains(\".\"))\n",
    "coalesced_records_count = coalesced_visitorid_records.count()"
   ]
  },
  {
   "cell_type": "code",
   "execution_count": 42,
   "metadata": {},
   "outputs": [
    {
     "name": "stdout",
     "output_type": "stream",
     "text": [
      "+---------------+----------+---------+-----+-------+---------------+\n",
      "|visitor_id     |first_name|last_name|email|gender |ip_address     |\n",
      "+---------------+----------+---------+-----+-------+---------------+\n",
      "|97.11.198.152  |Kerk      |Realph   |null |Male   |97.11.198.152  |\n",
      "|94.248.246.40  |Mersey    |Edgeworth|null |Female |94.248.246.40  |\n",
      "|92.191.8.232   |Nobe      |Graalman |null |Male   |92.191.8.232   |\n",
      "|84.196.181.206 |Pepi      |Kilbourne|null |Female |84.196.181.206 |\n",
      "|75.195.58.173  |Carmelita |Camock   |null |Female |75.195.58.173  |\n",
      "|72.122.182.45  |Mack      |Poser    |null |Male   |72.122.182.45  |\n",
      "|71.102.214.197 |Shanta    |Tumber   |null |Female |71.102.214.197 |\n",
      "|7.217.3.163    |Irita     |Folli    |null |Female |7.217.3.163    |\n",
      "|69.237.226.67  |Rupert    |Stiegars |null |Male   |69.237.226.67  |\n",
      "|57.94.26.165   |Conant    |Hawler   |null |Male   |57.94.26.165   |\n",
      "|55.81.243.209  |Kippy     |Glisenan |null |Male   |55.81.243.209  |\n",
      "|53.48.126.221  |Stephenie |Kilpin   |null |Female |53.48.126.221  |\n",
      "|50.209.34.232  |Vania     |Wrassell |null |Female |50.209.34.232  |\n",
      "|48.246.113.39  |Denna     |Reston   |null |Female |48.246.113.39  |\n",
      "|45.54.66.84    |Sonnie    |Jenkinson|null |Male   |45.54.66.84    |\n",
      "|26.177.62.144  |Christye  |Colcutt  |null |Female |26.177.62.144  |\n",
      "|255.212.85.194 |Llewellyn |Bulpitt  |null |Male   |255.212.85.194 |\n",
      "|249.207.212.211|Casi      |Stonnell |null |Female |249.207.212.211|\n",
      "|249.15.78.182  |Blisse    |Guisby   |null |Female |249.15.78.182  |\n",
      "|240.10.38.196  |Vasili    |Notman   |null |HRWMale|240.10.38.196  |\n",
      "+---------------+----------+---------+-----+-------+---------------+\n",
      "only showing top 20 rows\n",
      "\n"
     ]
    }
   ],
   "source": [
    "coalesced_visitorid_records.orderBy(col(\"ip_address\").desc()).show(truncate=False)"
   ]
  },
  {
   "cell_type": "code",
   "execution_count": 43,
   "metadata": {},
   "outputs": [
    {
     "data": {
      "text/plain": [
       "65"
      ]
     },
     "execution_count": 43,
     "metadata": {},
     "output_type": "execute_result"
    }
   ],
   "source": [
    "coalesced_records_count"
   ]
  },
  {
   "cell_type": "markdown",
   "metadata": {},
   "source": [
    "# Store all output records in CSV,TSV,| as well as JSON from Example Transformations in A,B,C,D,E"
   ]
  },
  {
   "cell_type": "code",
   "execution_count": 45,
   "metadata": {},
   "outputs": [],
   "source": [
    "# Persist all the output transformation to ensure they are not computed multiple times"
   ]
  },
  {
   "cell_type": "code",
   "execution_count": 46,
   "metadata": {},
   "outputs": [
    {
     "data": {
      "text/plain": [
       "DataFrame[visitor_id: string, first_name: string, last_name: string, email: string, gender: string, ip_address: string]"
      ]
     },
     "execution_count": 46,
     "metadata": {},
     "output_type": "execute_result"
    }
   ],
   "source": [
    "web_visit_with_name_mail.persist()\n",
    "visitor_ip_gender.persist()\n",
    "web_visit_with_fullname.persist()\n",
    "web_visits_coalesced_visitorid.persist()"
   ]
  },
  {
   "cell_type": "code",
   "execution_count": 50,
   "metadata": {},
   "outputs": [],
   "source": [
    "# Writing Records in CSV,TSV,| and JSON for web_visit_with_name_mail\n",
    "web_visit_with_name_mail.write.format('csv').options(delimiter=',').option(\"header\",\"true\").save(f'{output_datset_path_csv}/web_visit_with_name_mail')\n",
    "web_visit_with_name_mail.write.format('csv').options(delimiter='\\t').option(\"header\",\"true\").save(f'{output_datset_path_tab}/web_visit_with_name_mail')\n",
    "web_visit_with_name_mail.write.format('csv').options(delimiter='|').option(\"header\",\"true\").save(f'{output_datset_path_pipe}/web_visit_with_name_mail')\n",
    "web_visit_with_name_mail.write.format('json').save(f'{output_datset_path_json}/web_visit_with_name_mail')"
   ]
  },
  {
   "cell_type": "code",
   "execution_count": 51,
   "metadata": {},
   "outputs": [],
   "source": [
    "# Writing Records in CSV,TSV,| and JSON for visitor_ip_gender\n",
    "visitor_ip_gender.write.format('csv').options(delimiter=',').option(\"header\",\"true\").save(f'{output_datset_path_csv}/visitor_ip_gender')\n",
    "visitor_ip_gender.write.format('csv').options(delimiter='\\t').option(\"header\",\"true\").save(f'{output_datset_path_tab}/visitor_ip_gender')\n",
    "visitor_ip_gender.write.format('csv').options(delimiter='|').option(\"header\",\"true\").save(f'{output_datset_path_pipe}/visitor_ip_gender')\n",
    "visitor_ip_gender.write.format('json').save(f'{output_datset_path_json}/visitor_ip_gender')"
   ]
  },
  {
   "cell_type": "code",
   "execution_count": 52,
   "metadata": {},
   "outputs": [],
   "source": [
    "# Writing Records in CSV,TSV,| and JSON for web_visit_with_fullname\n",
    "web_visit_with_fullname.write.format('csv').options(delimiter=',').option(\"header\",\"true\").save(f'{output_datset_path_csv}/web_visit_with_fullname')\n",
    "web_visit_with_fullname.write.format('csv').options(delimiter='\\t').option(\"header\",\"true\").save(f'{output_datset_path_tab}/web_visit_with_fullname')\n",
    "web_visit_with_fullname.write.format('csv').options(delimiter='|').option(\"header\",\"true\").save(f'{output_datset_path_pipe}/web_visit_with_fullname')\n",
    "web_visit_with_fullname.write.format('json').save(f'{output_datset_path_json}/web_visit_with_fullname')"
   ]
  },
  {
   "cell_type": "code",
   "execution_count": 53,
   "metadata": {},
   "outputs": [],
   "source": [
    "# Writing Records in CSV,TSV,| and JSON for web_visit_with_fullname\n",
    "web_visits_coalesced_visitorid.write.format('csv').options(delimiter=',').option(\"header\",\"true\").save(f'{output_datset_path_csv}/web_visits_coalesced_visitorid')\n",
    "web_visits_coalesced_visitorid.write.format('csv').options(delimiter='\\t').option(\"header\",\"true\").save(f'{output_datset_path_tab}/web_visits_coalesced_visitorid')\n",
    "web_visits_coalesced_visitorid.write.format('csv').options(delimiter='|').option(\"header\",\"true\").save(f'{output_datset_path_pipe}/web_visits_coalesced_visitorid')\n",
    "web_visits_coalesced_visitorid.write.format('json').save(f'{output_datset_path_json}/web_visits_coalesced_visitorid')"
   ]
  },
  {
   "cell_type": "code",
   "execution_count": null,
   "metadata": {},
   "outputs": [],
   "source": []
  }
 ],
 "metadata": {
  "kernelspec": {
   "display_name": "Python 3",
   "language": "python",
   "name": "python3"
  },
  "language_info": {
   "codemirror_mode": {
    "name": "ipython",
    "version": 3
   },
   "file_extension": ".py",
   "mimetype": "text/x-python",
   "name": "python",
   "nbconvert_exporter": "python",
   "pygments_lexer": "ipython3",
   "version": "3.7.5"
  },
  "varInspector": {
   "cols": {
    "lenName": 16,
    "lenType": 16,
    "lenVar": 40
   },
   "kernels_config": {
    "python": {
     "delete_cmd_postfix": "",
     "delete_cmd_prefix": "del ",
     "library": "var_list.py",
     "varRefreshCmd": "print(var_dic_list())"
    },
    "r": {
     "delete_cmd_postfix": ") ",
     "delete_cmd_prefix": "rm(",
     "library": "var_list.r",
     "varRefreshCmd": "cat(var_dic_list()) "
    }
   },
   "types_to_exclude": [
    "module",
    "function",
    "builtin_function_or_method",
    "instance",
    "_Feature"
   ],
   "window_display": false
  }
 },
 "nbformat": 4,
 "nbformat_minor": 2
}
