{
 "cells": [
  {
   "cell_type": "markdown",
   "metadata": {},
   "source": [
    "# This notebook is going to teach you how to perform  pyspark Joins"
   ]
  },
  {
   "cell_type": "code",
   "execution_count": 1,
   "metadata": {},
   "outputs": [],
   "source": [
    "# Initialise Input And Output Dataset Path Variables\n",
    "input_dataset_path = \"C:/Users/Jasjyot Singh Jaswal/Documents/JupyterWB/BigDataOrclProject/InputDataset\"\n",
    "output_datset_path = \"C:/Users/Jasjyot Singh Jaswal/Documents/JupyterWB/BigDataOrclProject/OutputDataset\"\n",
    "output_datset_path_csv = f\"{output_datset_path}/CSV\"\n",
    "output_datset_path_pipe = f\"{output_datset_path}/PIPE\"\n",
    "output_datset_path_tab = f\"{output_datset_path}/TAB\"\n",
    "output_datset_path_json = f\"{output_datset_path}/JSON\""
   ]
  },
  {
   "cell_type": "markdown",
   "metadata": {},
   "source": [
    "# Import Dependencies"
   ]
  },
  {
   "cell_type": "code",
   "execution_count": 2,
   "metadata": {},
   "outputs": [],
   "source": [
    "import findspark\n",
    "findspark.init()\n",
    "import pyspark # only run after findspark.init()\n",
    "from pyspark.sql.functions import col, explode,coalesce\n",
    "from pyspark.sql import SparkSession\n",
    "from pyspark.sql.functions import udf\n",
    "from pyspark.sql.types import LongType\n",
    "from pyspark.sql.types import StructType\n",
    "from pyspark.sql.functions import udf\n",
    "from pyspark.sql import functions as f\n",
    "spark = SparkSession.builder.getOrCreate()\n",
    "import datetime\n",
    "from datetime import timedelta \n",
    "from pyspark.sql.types import ArrayType\n",
    "from pyspark.sql.functions import split\n",
    "from pyspark.sql.types import StringType\n",
    "from pyspark.sql import functions\n",
    "from pyspark.sql.window import Window\n",
    "from pyspark.sql.functions import *"
   ]
  },
  {
   "cell_type": "markdown",
   "metadata": {},
   "source": [
    "# Load Customer Information and Purchase Information dataframe.\n",
    "\n",
    "### Find total counts for each and distinct customers present in each dataframe.\n",
    "### Total count for Customer information dataframe and distinct customers present in it should be same in an ideal world\n",
    "### Customer dataset has unmatched customer ID's from custID31,custID32,custID33.... all the way to custID50 (20 such customers)\n",
    "### Purchase Dataset has unmatched customer ID's from custID3074,custID3074,custID3074,custID75,custID87,custID133,custID167 (5 Such Customers)\n",
    "### Purchase Dataset has 4 ignorable sales with Purchase ID 393,496,456,429"
   ]
  },
  {
   "cell_type": "code",
   "execution_count": 9,
   "metadata": {},
   "outputs": [
    {
     "name": "stdout",
     "output_type": "stream",
     "text": [
      "+----------+-----------------+----------------+------------------------+\n",
      "|CustomerID|CustomerFirstName|CustomerLastName|StreetAddress           |\n",
      "+----------+-----------------+----------------+------------------------+\n",
      "|custID01  |Mikel            |Rankling        |2901 American Ash Road  |\n",
      "|custID02  |Nial             |Rentcome        |08928 Sunfield Plaza    |\n",
      "|custID03  |Leon             |Coales          |546 Darwin Park         |\n",
      "|custID04  |Timothy          |Southon         |79507 Scott Court       |\n",
      "|custID05  |Thedric          |Firbank         |755 Ramsey Terrace      |\n",
      "|custID06  |Gerrie           |Barr            |477 Havey Hill          |\n",
      "|custID07  |Hagen            |Maris           |7864 Hoepker Crossing   |\n",
      "|custID08  |Winthrop         |Lantaph         |92172 Stoughton Court   |\n",
      "|custID09  |Martainn         |Couch           |167 Calypso Terrace     |\n",
      "|custID10  |Marcos           |Perrin          |223 Paget Road          |\n",
      "|custID11  |Trev             |Stanyer         |8 Fairfield Crossing    |\n",
      "|custID12  |Glenn            |Leport          |8 Tomscot Place         |\n",
      "|custID13  |Odell            |Wakley          |52 Orin Avenue          |\n",
      "|custID14  |Vale             |Bodega          |35 Fisk Alley           |\n",
      "|custID15  |Shelton          |Reddings        |78147 Hayes Park        |\n",
      "|custID16  |Robert           |Stout           |6340 Chive Park         |\n",
      "|custID17  |Rube             |Moralee         |29 Spenser Hill         |\n",
      "|custID18  |Paddy            |Scamwell        |807 Maywood Place       |\n",
      "|custID19  |Franklin         |Skouling        |65288 Anniversary Street|\n",
      "|custID20  |Nevins           |Taplin          |2378 Corben Hill        |\n",
      "+----------+-----------------+----------------+------------------------+\n",
      "only showing top 20 rows\n",
      "\n",
      "Total Customer Info Records are 50 and Total Distinct Customer IDs present are 50 \n"
     ]
    }
   ],
   "source": [
    "cust_info = spark.read.option(\"header\", \"true\").csv(f\"{input_dataset_path}/customer_information.csv\")\n",
    "cust_info.show(truncate=False)\n",
    "cust_info_count = cust_info.count()\n",
    "cust_info_distinct_count = cust_info.select(\"CustomerID\").distinct().count()\n",
    "print(f\"Total Customer Info Records are {cust_info_count} and Total Distinct Customer IDs present are {cust_info_distinct_count} \")"
   ]
  },
  {
   "cell_type": "code",
   "execution_count": 10,
   "metadata": {},
   "outputs": [
    {
     "name": "stdout",
     "output_type": "stream",
     "text": [
      "+----------+----------+------------+--------------+\n",
      "|PurchaseID|CustomerID|PurchaseDate|PurchaseAmount|\n",
      "+----------+----------+------------+--------------+\n",
      "|1         |custID04  |09-04-2020  |28238         |\n",
      "|2         |custID15  |10/14/2020  |29528         |\n",
      "|3         |custID27  |6/18/2020   |22763         |\n",
      "|4         |custID22  |10/15/2020  |24043         |\n",
      "|5         |custID28  |01-01-2020  |20814         |\n",
      "|6         |custID15  |01-02-2020  |27609         |\n",
      "|7         |custID11  |10-10-2020  |23244         |\n",
      "|8         |custID05  |7/21/2020   |28114         |\n",
      "|9         |custID19  |9/14/2020   |26720         |\n",
      "|10        |custID17  |11-09-2020  |29969         |\n",
      "|11        |custID29  |01-09-2020  |28532         |\n",
      "|12        |custID30  |10/23/2020  |26970         |\n",
      "|13        |custID09  |07-05-2020  |25937         |\n",
      "|14        |custID02  |04-06-2020  |25585         |\n",
      "|15        |custID26  |08-01-2020  |21140         |\n",
      "|16        |custID05  |3/24/2020   |29687         |\n",
      "|17        |custID18  |10-12-2020  |26784         |\n",
      "|18        |custID22  |02-01-2020  |25303         |\n",
      "|19        |custID13  |10-11-2020  |26465         |\n",
      "|20        |custID29  |08-01-2020  |23690         |\n",
      "+----------+----------+------------+--------------+\n",
      "only showing top 20 rows\n",
      "\n",
      "Total Purchase Info Records are 1000 and Total Distinct Customer IDs present are 35 \n"
     ]
    }
   ],
   "source": [
    "purchase_info = spark.read.option(\"header\", \"true\").csv(f\"{input_dataset_path}/purchase_information.csv\")\n",
    "purchase_info.show(truncate=False)\n",
    "purchase_info_count = purchase_info.count()\n",
    "purchase_info_distinct_count = purchase_info.select(\"CustomerID\").distinct().count()\n",
    "print(f\"Total Purchase Info Records are {purchase_info_count} and Total Distinct Customer IDs present are {purchase_info_distinct_count} \")"
   ]
  },
  {
   "cell_type": "code",
   "execution_count": 17,
   "metadata": {},
   "outputs": [],
   "source": [
    "### A . Perform Inner Join between Customer and Purchase Dataset on CustomerID column\n",
    "### This will hold all matching records between Customer & Purchase Dataset on CustomerID column\n",
    "### Remove 1 of the CustomerID columns as column comes from both dataframes after joining"
   ]
  },
  {
   "cell_type": "code",
   "execution_count": 21,
   "metadata": {},
   "outputs": [],
   "source": [
    "cust_inner_join = cust_info.join(purchase_info, [cust_info.CustomerID == purchase_info.CustomerID], 'inner').drop(\"CustomerID\")\n",
    "cust_inner_join_cnt = cust_inner_join.count()"
   ]
  },
  {
   "cell_type": "code",
   "execution_count": 22,
   "metadata": {},
   "outputs": [
    {
     "name": "stdout",
     "output_type": "stream",
     "text": [
      "+-----------------+----------------+------------------------+----------+------------+--------------+\n",
      "|CustomerFirstName|CustomerLastName|StreetAddress           |PurchaseID|PurchaseDate|PurchaseAmount|\n",
      "+-----------------+----------------+------------------------+----------+------------+--------------+\n",
      "|Timothy          |Southon         |79507 Scott Court       |1         |09-04-2020  |28238         |\n",
      "|Shelton          |Reddings        |78147 Hayes Park        |2         |10/14/2020  |29528         |\n",
      "|Gibbie           |Purcell         |875 Harper Plaza        |3         |6/18/2020   |22763         |\n",
      "|Marius           |Warbys          |59 Redwing Avenue       |4         |10/15/2020  |24043         |\n",
      "|Merrick          |Wymer           |053 Pankratz Trail      |5         |01-01-2020  |20814         |\n",
      "|Shelton          |Reddings        |78147 Hayes Park        |6         |01-02-2020  |27609         |\n",
      "|Trev             |Stanyer         |8 Fairfield Crossing    |7         |10-10-2020  |23244         |\n",
      "|Thedric          |Firbank         |755 Ramsey Terrace      |8         |7/21/2020   |28114         |\n",
      "|Franklin         |Skouling        |65288 Anniversary Street|9         |9/14/2020   |26720         |\n",
      "|Rube             |Moralee         |29 Spenser Hill         |10        |11-09-2020  |29969         |\n",
      "|Wakefield        |Seivwright      |421 Norway Maple Parkway|11        |01-09-2020  |28532         |\n",
      "|Stan             |Ivel            |1 Maple Place           |12        |10/23/2020  |26970         |\n",
      "|Martainn         |Couch           |167 Calypso Terrace     |13        |07-05-2020  |25937         |\n",
      "|Nial             |Rentcome        |08928 Sunfield Plaza    |14        |04-06-2020  |25585         |\n",
      "|Sylvan           |Espinel         |0 Bellgrove Circle      |15        |08-01-2020  |21140         |\n",
      "|Thedric          |Firbank         |755 Ramsey Terrace      |16        |3/24/2020   |29687         |\n",
      "|Paddy            |Scamwell        |807 Maywood Place       |17        |10-12-2020  |26784         |\n",
      "|Marius           |Warbys          |59 Redwing Avenue       |18        |02-01-2020  |25303         |\n",
      "|Odell            |Wakley          |52 Orin Avenue          |19        |10-11-2020  |26465         |\n",
      "|Wakefield        |Seivwright      |421 Norway Maple Parkway|20        |08-01-2020  |23690         |\n",
      "+-----------------+----------------+------------------------+----------+------------+--------------+\n",
      "only showing top 20 rows\n",
      "\n",
      "Target Count Records after joining 995 \n"
     ]
    }
   ],
   "source": [
    "cust_inner_join.show(truncate=False)\n",
    "print(f\"Target Count Records after joining {cust_inner_join_cnt} \")"
   ]
  },
  {
   "cell_type": "code",
   "execution_count": 18,
   "metadata": {},
   "outputs": [],
   "source": [
    "### B . Perform Inner Join between Customer and Purchase Dataset on CustomerID column for significant sales i.e. sale value >1000 \n",
    "### You can provide additional conditions apart from joining conditions"
   ]
  },
  {
   "cell_type": "code",
   "execution_count": 23,
   "metadata": {},
   "outputs": [],
   "source": [
    "cust_inner_join_high_purch = cust_info.join(purchase_info, [cust_info.CustomerID == purchase_info.CustomerID,purchase_info.PurchaseAmount > 1000 ], 'inner').drop(\"CustomerID\")\n",
    "cust_inner_join_high_purch_cnt = cust_inner_join_high_purch.count()"
   ]
  },
  {
   "cell_type": "code",
   "execution_count": 24,
   "metadata": {},
   "outputs": [
    {
     "name": "stdout",
     "output_type": "stream",
     "text": [
      "+-----------------+----------------+------------------------+----------+------------+--------------+\n",
      "|CustomerFirstName|CustomerLastName|StreetAddress           |PurchaseID|PurchaseDate|PurchaseAmount|\n",
      "+-----------------+----------------+------------------------+----------+------------+--------------+\n",
      "|Timothy          |Southon         |79507 Scott Court       |1         |09-04-2020  |28238         |\n",
      "|Shelton          |Reddings        |78147 Hayes Park        |2         |10/14/2020  |29528         |\n",
      "|Gibbie           |Purcell         |875 Harper Plaza        |3         |6/18/2020   |22763         |\n",
      "|Marius           |Warbys          |59 Redwing Avenue       |4         |10/15/2020  |24043         |\n",
      "|Merrick          |Wymer           |053 Pankratz Trail      |5         |01-01-2020  |20814         |\n",
      "|Shelton          |Reddings        |78147 Hayes Park        |6         |01-02-2020  |27609         |\n",
      "|Trev             |Stanyer         |8 Fairfield Crossing    |7         |10-10-2020  |23244         |\n",
      "|Thedric          |Firbank         |755 Ramsey Terrace      |8         |7/21/2020   |28114         |\n",
      "|Franklin         |Skouling        |65288 Anniversary Street|9         |9/14/2020   |26720         |\n",
      "|Rube             |Moralee         |29 Spenser Hill         |10        |11-09-2020  |29969         |\n",
      "|Wakefield        |Seivwright      |421 Norway Maple Parkway|11        |01-09-2020  |28532         |\n",
      "|Stan             |Ivel            |1 Maple Place           |12        |10/23/2020  |26970         |\n",
      "|Martainn         |Couch           |167 Calypso Terrace     |13        |07-05-2020  |25937         |\n",
      "|Nial             |Rentcome        |08928 Sunfield Plaza    |14        |04-06-2020  |25585         |\n",
      "|Sylvan           |Espinel         |0 Bellgrove Circle      |15        |08-01-2020  |21140         |\n",
      "|Thedric          |Firbank         |755 Ramsey Terrace      |16        |3/24/2020   |29687         |\n",
      "|Paddy            |Scamwell        |807 Maywood Place       |17        |10-12-2020  |26784         |\n",
      "|Marius           |Warbys          |59 Redwing Avenue       |18        |02-01-2020  |25303         |\n",
      "|Odell            |Wakley          |52 Orin Avenue          |19        |10-11-2020  |26465         |\n",
      "|Wakefield        |Seivwright      |421 Norway Maple Parkway|20        |08-01-2020  |23690         |\n",
      "+-----------------+----------------+------------------------+----------+------------+--------------+\n",
      "only showing top 20 rows\n",
      "\n",
      "Target Count Records after joining 991 \n"
     ]
    }
   ],
   "source": [
    "cust_inner_join_high_purch.show(truncate=False)\n",
    "print(f\"Target Count Records after joining {cust_inner_join_high_purch_cnt} \")"
   ]
  },
  {
   "cell_type": "code",
   "execution_count": 25,
   "metadata": {},
   "outputs": [],
   "source": [
    "### Total Output Records after inner join and significant purchase accounted for =  991\n",
    "### Total Output Records after normal inner join only = 995\n",
    "### No. of Insignificant Purchase records = 4\n",
    "### 991 = 995-4"
   ]
  },
  {
   "cell_type": "code",
   "execution_count": 26,
   "metadata": {},
   "outputs": [],
   "source": [
    "### C . Perform Left Outer Join between Customer and Purchase Dataset on CustomerID column \n",
    "### This will have all records from Customer Dataset including IDs from CustID31 to CustID50 but not unmatched Customers from Purchase Dataset"
   ]
  },
  {
   "cell_type": "code",
   "execution_count": 27,
   "metadata": {},
   "outputs": [],
   "source": [
    "cust_left_join = cust_info.join(purchase_info, [cust_info.CustomerID == purchase_info.CustomerID], 'left').drop(\"CustomerID\")\n",
    "cust_left_join_cnt = cust_left_join.count()"
   ]
  },
  {
   "cell_type": "code",
   "execution_count": 28,
   "metadata": {},
   "outputs": [
    {
     "name": "stdout",
     "output_type": "stream",
     "text": [
      "+-----------------+----------------+----------------------+----------+------------+--------------+\n",
      "|CustomerFirstName|CustomerLastName|StreetAddress         |PurchaseID|PurchaseDate|PurchaseAmount|\n",
      "+-----------------+----------------+----------------------+----------+------------+--------------+\n",
      "|Mikel            |Rankling        |2901 American Ash Road|987       |8/26/2020   |28643         |\n",
      "|Mikel            |Rankling        |2901 American Ash Road|986       |2/24/2020   |27647         |\n",
      "|Mikel            |Rankling        |2901 American Ash Road|940       |1/19/2020   |22662         |\n",
      "|Mikel            |Rankling        |2901 American Ash Road|904       |7/29/2020   |22284         |\n",
      "|Mikel            |Rankling        |2901 American Ash Road|899       |7/25/2020   |29865         |\n",
      "|Mikel            |Rankling        |2901 American Ash Road|865       |6/15/2020   |29858         |\n",
      "|Mikel            |Rankling        |2901 American Ash Road|859       |09-07-2020  |26229         |\n",
      "|Mikel            |Rankling        |2901 American Ash Road|811       |02-08-2020  |20546         |\n",
      "|Mikel            |Rankling        |2901 American Ash Road|771       |02-03-2020  |29888         |\n",
      "|Mikel            |Rankling        |2901 American Ash Road|719       |4/14/2020   |21794         |\n",
      "|Mikel            |Rankling        |2901 American Ash Road|658       |9/29/2020   |24760         |\n",
      "|Mikel            |Rankling        |2901 American Ash Road|608       |05-12-2020  |21255         |\n",
      "|Mikel            |Rankling        |2901 American Ash Road|598       |04-09-2020  |20872         |\n",
      "|Mikel            |Rankling        |2901 American Ash Road|554       |12/14/2019  |28897         |\n",
      "|Mikel            |Rankling        |2901 American Ash Road|542       |9/22/2020   |27963         |\n",
      "|Mikel            |Rankling        |2901 American Ash Road|538       |03-01-2020  |23862         |\n",
      "|Mikel            |Rankling        |2901 American Ash Road|474       |06-06-2020  |21471         |\n",
      "|Mikel            |Rankling        |2901 American Ash Road|436       |8/19/2020   |29342         |\n",
      "|Mikel            |Rankling        |2901 American Ash Road|379       |3/26/2020   |26207         |\n",
      "|Mikel            |Rankling        |2901 American Ash Road|359       |11-08-2020  |22213         |\n",
      "+-----------------+----------------+----------------------+----------+------------+--------------+\n",
      "only showing top 20 rows\n",
      "\n",
      "Target Count Records after joining 1015 \n"
     ]
    }
   ],
   "source": [
    "cust_left_join.show(truncate=False)\n",
    "print(f\"Target Count Records after joining {cust_left_join_cnt} \")"
   ]
  },
  {
   "cell_type": "code",
   "execution_count": 29,
   "metadata": {},
   "outputs": [],
   "source": [
    "### D . Perform Full Outer Join between Customer and Purchase Dataset on CustomerID column \n",
    "### This will have all records from Customer Dataset including IDs from CustID31 to CustID50 also all records from Purchase Dataset including for IDS custID3074,custID75,custID87"
   ]
  },
  {
   "cell_type": "code",
   "execution_count": 31,
   "metadata": {},
   "outputs": [],
   "source": [
    "cust_full_join = cust_info.join(purchase_info, [cust_info.CustomerID == purchase_info.CustomerID], 'full').drop(\"CustomerID\")\n",
    "cust_full_join_cnt = cust_full_join.count()"
   ]
  },
  {
   "cell_type": "code",
   "execution_count": 32,
   "metadata": {},
   "outputs": [
    {
     "name": "stdout",
     "output_type": "stream",
     "text": [
      "+-----------------+----------------+---------------+----------+------------+--------------+\n",
      "|CustomerFirstName|CustomerLastName|StreetAddress  |PurchaseID|PurchaseDate|PurchaseAmount|\n",
      "+-----------------+----------------+---------------+----------+------------+--------------+\n",
      "|Leon             |Coales          |546 Darwin Park|46        |12/31/2019  |28319         |\n",
      "|Leon             |Coales          |546 Darwin Park|57        |9/15/2020   |24450         |\n",
      "|Leon             |Coales          |546 Darwin Park|62        |8/29/2020   |29697         |\n",
      "|Leon             |Coales          |546 Darwin Park|92        |7/26/2020   |20162         |\n",
      "|Leon             |Coales          |546 Darwin Park|144       |7/24/2020   |25351         |\n",
      "|Leon             |Coales          |546 Darwin Park|160       |07-11-2020  |23886         |\n",
      "|Leon             |Coales          |546 Darwin Park|176       |7/31/2020   |24463         |\n",
      "|Leon             |Coales          |546 Darwin Park|194       |11-10-2020  |29263         |\n",
      "|Leon             |Coales          |546 Darwin Park|219       |01-07-2020  |20488         |\n",
      "|Leon             |Coales          |546 Darwin Park|226       |7/29/2020   |29944         |\n",
      "|Leon             |Coales          |546 Darwin Park|293       |5/15/2020   |23918         |\n",
      "|Leon             |Coales          |546 Darwin Park|321       |3/16/2020   |22213         |\n",
      "|Leon             |Coales          |546 Darwin Park|337       |08-02-2020  |28472         |\n",
      "|Leon             |Coales          |546 Darwin Park|338       |10/30/2020  |21911         |\n",
      "|Leon             |Coales          |546 Darwin Park|404       |10/23/2020  |23169         |\n",
      "|Leon             |Coales          |546 Darwin Park|429       |11-02-2020  |954           |\n",
      "|Leon             |Coales          |546 Darwin Park|431       |7/15/2020   |21082         |\n",
      "|Leon             |Coales          |546 Darwin Park|439       |10/31/2020  |25439         |\n",
      "|Leon             |Coales          |546 Darwin Park|473       |08-01-2020  |24340         |\n",
      "|Leon             |Coales          |546 Darwin Park|478       |3/14/2020   |29482         |\n",
      "+-----------------+----------------+---------------+----------+------------+--------------+\n",
      "only showing top 20 rows\n",
      "\n",
      "Target Count Records after joining 1020 \n"
     ]
    }
   ],
   "source": [
    "cust_full_join.show(truncate=False)\n",
    "print(f\"Target Count Records after joining {cust_full_join_cnt} \")"
   ]
  },
  {
   "cell_type": "code",
   "execution_count": null,
   "metadata": {},
   "outputs": [],
   "source": [
    "### E . Perform Left Semi Join between Customer and Purchase Dataset on CustomerID column \n",
    "### This is similar to inner join except that it returns only Columns from the table on left i.e.  Customer"
   ]
  },
  {
   "cell_type": "code",
   "execution_count": 33,
   "metadata": {},
   "outputs": [],
   "source": [
    "cust_leftsemi_join = cust_info.join(purchase_info, [cust_info.CustomerID == purchase_info.CustomerID], 'leftsemi').drop(\"CustomerID\")\n",
    "cust_leftsemi_join_cnt = cust_leftsemi_join.count()"
   ]
  },
  {
   "cell_type": "code",
   "execution_count": 34,
   "metadata": {},
   "outputs": [
    {
     "name": "stdout",
     "output_type": "stream",
     "text": [
      "+-----------------+----------------+------------------------+\n",
      "|CustomerFirstName|CustomerLastName|StreetAddress           |\n",
      "+-----------------+----------------+------------------------+\n",
      "|Mikel            |Rankling        |2901 American Ash Road  |\n",
      "|Nial             |Rentcome        |08928 Sunfield Plaza    |\n",
      "|Leon             |Coales          |546 Darwin Park         |\n",
      "|Timothy          |Southon         |79507 Scott Court       |\n",
      "|Thedric          |Firbank         |755 Ramsey Terrace      |\n",
      "|Gerrie           |Barr            |477 Havey Hill          |\n",
      "|Hagen            |Maris           |7864 Hoepker Crossing   |\n",
      "|Winthrop         |Lantaph         |92172 Stoughton Court   |\n",
      "|Martainn         |Couch           |167 Calypso Terrace     |\n",
      "|Marcos           |Perrin          |223 Paget Road          |\n",
      "|Trev             |Stanyer         |8 Fairfield Crossing    |\n",
      "|Glenn            |Leport          |8 Tomscot Place         |\n",
      "|Odell            |Wakley          |52 Orin Avenue          |\n",
      "|Vale             |Bodega          |35 Fisk Alley           |\n",
      "|Shelton          |Reddings        |78147 Hayes Park        |\n",
      "|Robert           |Stout           |6340 Chive Park         |\n",
      "|Rube             |Moralee         |29 Spenser Hill         |\n",
      "|Paddy            |Scamwell        |807 Maywood Place       |\n",
      "|Franklin         |Skouling        |65288 Anniversary Street|\n",
      "|Nevins           |Taplin          |2378 Corben Hill        |\n",
      "+-----------------+----------------+------------------------+\n",
      "only showing top 20 rows\n",
      "\n",
      "Target Count Records after joining 30 \n"
     ]
    }
   ],
   "source": [
    "cust_leftsemi_join.show(truncate=False)\n",
    "print(f\"Target Count Records after joining {cust_leftsemi_join_cnt} \")"
   ]
  },
  {
   "cell_type": "code",
   "execution_count": 36,
   "metadata": {},
   "outputs": [],
   "source": [
    "### F . Perform Left Anti Join between Customer and Purchase Dataset on CustomerID column \n",
    "### This will have all unmatched records from Customer Dataset i.e.  IDs from CustID31 to CustID50 and returns columns only from Customer Dataset"
   ]
  },
  {
   "cell_type": "code",
   "execution_count": 35,
   "metadata": {},
   "outputs": [],
   "source": [
    "cust_leftanti_join = cust_info.join(purchase_info, [cust_info.CustomerID == purchase_info.CustomerID], 'leftanti').drop(\"CustomerID\")\n",
    "cust_leftanti_join_cnt = cust_leftanti_join.count()"
   ]
  },
  {
   "cell_type": "code",
   "execution_count": 37,
   "metadata": {},
   "outputs": [
    {
     "name": "stdout",
     "output_type": "stream",
     "text": [
      "+-----------------+----------------+----------------------+\n",
      "|CustomerFirstName|CustomerLastName|StreetAddress         |\n",
      "+-----------------+----------------+----------------------+\n",
      "|Toiboid          |Farnon          |751 Hanson Drive      |\n",
      "|Normand          |Eriksson        |7 Village Green Drive |\n",
      "|Shelton          |Yansons         |95 Grim Park          |\n",
      "|Jeromy           |Gallimore       |9 Hermina Alley       |\n",
      "|Joachim          |Stoeck          |66452 Lakeland Street |\n",
      "|Bruno            |Thatcham        |298 Scofield Court    |\n",
      "|Markos           |Doley           |3410 Hanover Hill     |\n",
      "|Alexio           |Hubbock         |093 Village Green Road|\n",
      "|Lucian           |Overstreet      |981 Jay Hill          |\n",
      "|Norman           |Ranns           |39 Mandrake Plaza     |\n",
      "|Dov              |Bentote         |1 Mcbride Trail       |\n",
      "|Lonnie           |Jira            |65 Spenser Way        |\n",
      "|Carrol           |Balkwill        |316 Mesta Plaza       |\n",
      "|Westbrook        |Camm            |1647 Oakridge Crossing|\n",
      "|Crosby           |Firman          |2943 Leroy Crossing   |\n",
      "|Ronny            |Randlesome      |21 Fulton Trail       |\n",
      "|Orlando          |Colloff         |68777 Rusk Center     |\n",
      "|Byron            |Ofen            |13882 Warbler Lane    |\n",
      "|Currey           |Snowball        |7 Dexter Drive        |\n",
      "|Gamaliel         |Crome           |0468 Porter Drive     |\n",
      "+-----------------+----------------+----------------------+\n",
      "\n",
      "Target Count Records after joining 20 \n"
     ]
    }
   ],
   "source": [
    "cust_leftanti_join.show(truncate=False)\n",
    "print(f\"Target Count Records after joining {cust_leftanti_join_cnt} \")"
   ]
  },
  {
   "cell_type": "markdown",
   "metadata": {},
   "source": [
    "# Store all output records in CSV,TSV,| as well as JSON from Example Transformations in A,B,C,D,E,F"
   ]
  },
  {
   "cell_type": "code",
   "execution_count": 39,
   "metadata": {},
   "outputs": [],
   "source": [
    "# Persist all the output transformation to ensure they are not computed multiple times"
   ]
  },
  {
   "cell_type": "code",
   "execution_count": 40,
   "metadata": {},
   "outputs": [
    {
     "data": {
      "text/plain": [
       "DataFrame[CustomerFirstName: string, CustomerLastName: string, StreetAddress: string]"
      ]
     },
     "execution_count": 40,
     "metadata": {},
     "output_type": "execute_result"
    }
   ],
   "source": [
    "cust_inner_join.persist()\n",
    "cust_inner_join_high_purch.persist()\n",
    "cust_left_join.persist()\n",
    "cust_full_join.persist()\n",
    "cust_leftsemi_join.persist()\n",
    "cust_leftanti_join.persist()"
   ]
  },
  {
   "cell_type": "code",
   "execution_count": 41,
   "metadata": {},
   "outputs": [],
   "source": [
    "# Writing Records in CSV,TSV,| and JSON for cust_inner_join\n",
    "cust_inner_join.write.format('csv').options(delimiter=',').option(\"header\",\"true\").save(f'{output_datset_path_csv}/cust_inner_join')\n",
    "cust_inner_join.write.format('csv').options(delimiter='\\t').option(\"header\",\"true\").save(f'{output_datset_path_tab}/cust_inner_join')\n",
    "cust_inner_join.write.format('csv').options(delimiter='|').option(\"header\",\"true\").save(f'{output_datset_path_pipe}/cust_inner_join')\n",
    "cust_inner_join.write.format('json').save(f'{output_datset_path_json}/cust_inner_join')"
   ]
  },
  {
   "cell_type": "code",
   "execution_count": 42,
   "metadata": {},
   "outputs": [],
   "source": [
    "# Writing Records in CSV,TSV,| and JSON for cust_inner_join_high_purch\n",
    "cust_inner_join_high_purch.write.format('csv').options(delimiter=',').option(\"header\",\"true\").save(f'{output_datset_path_csv}/cust_inner_join_high_purch')\n",
    "cust_inner_join_high_purch.write.format('csv').options(delimiter='\\t').option(\"header\",\"true\").save(f'{output_datset_path_tab}/cust_inner_join_high_purch')\n",
    "cust_inner_join_high_purch.write.format('csv').options(delimiter='|').option(\"header\",\"true\").save(f'{output_datset_path_pipe}/cust_inner_join_high_purch')\n",
    "cust_inner_join_high_purch.write.format('json').save(f'{output_datset_path_json}/cust_inner_join_high_purch')"
   ]
  },
  {
   "cell_type": "code",
   "execution_count": 43,
   "metadata": {},
   "outputs": [],
   "source": [
    "# Writing Records in CSV,TSV,| and JSON for cust_left_join\n",
    "cust_left_join.write.format('csv').options(delimiter=',').option(\"header\",\"true\").save(f'{output_datset_path_csv}/cust_left_join')\n",
    "cust_left_join.write.format('csv').options(delimiter='\\t').option(\"header\",\"true\").save(f'{output_datset_path_tab}/cust_left_join')\n",
    "cust_left_join.write.format('csv').options(delimiter='|').option(\"header\",\"true\").save(f'{output_datset_path_pipe}/cust_left_join')\n",
    "cust_left_join.write.format('json').save(f'{output_datset_path_json}/cust_left_join')"
   ]
  },
  {
   "cell_type": "code",
   "execution_count": 44,
   "metadata": {},
   "outputs": [],
   "source": [
    "# Writing Records in CSV,TSV,| and JSON for cust_full_join\n",
    "cust_full_join.write.format('csv').options(delimiter=',').option(\"header\",\"true\").save(f'{output_datset_path_csv}/cust_full_join')\n",
    "cust_full_join.write.format('csv').options(delimiter='\\t').option(\"header\",\"true\").save(f'{output_datset_path_tab}/cust_full_join')\n",
    "cust_full_join.write.format('csv').options(delimiter='|').option(\"header\",\"true\").save(f'{output_datset_path_pipe}/cust_full_join')\n",
    "cust_full_join.write.format('json').save(f'{output_datset_path_json}/cust_full_join')"
   ]
  },
  {
   "cell_type": "code",
   "execution_count": 45,
   "metadata": {},
   "outputs": [],
   "source": [
    "# Writing Records in CSV,TSV,| and JSON for cust_leftsemi_join\n",
    "cust_leftsemi_join.write.format('csv').options(delimiter=',').option(\"header\",\"true\").save(f'{output_datset_path_csv}/cust_leftsemi_join')\n",
    "cust_leftsemi_join.write.format('csv').options(delimiter='\\t').option(\"header\",\"true\").save(f'{output_datset_path_tab}/cust_leftsemi_join')\n",
    "cust_leftsemi_join.write.format('csv').options(delimiter='|').option(\"header\",\"true\").save(f'{output_datset_path_pipe}/cust_leftsemi_join')\n",
    "cust_leftsemi_join.write.format('json').save(f'{output_datset_path_json}/cust_leftsemi_join')"
   ]
  },
  {
   "cell_type": "code",
   "execution_count": 46,
   "metadata": {},
   "outputs": [],
   "source": [
    "# Writing Records in CSV,TSV,| and JSON for cust_leftanti_join\n",
    "cust_leftanti_join.write.format('csv').options(delimiter=',').option(\"header\",\"true\").save(f'{output_datset_path_csv}/cust_leftanti_join')\n",
    "cust_leftanti_join.write.format('csv').options(delimiter='\\t').option(\"header\",\"true\").save(f'{output_datset_path_tab}/cust_leftanti_join')\n",
    "cust_leftanti_join.write.format('csv').options(delimiter='|').option(\"header\",\"true\").save(f'{output_datset_path_pipe}/cust_leftanti_join')\n",
    "cust_leftanti_join.write.format('json').save(f'{output_datset_path_json}/cust_leftanti_join')"
   ]
  },
  {
   "cell_type": "code",
   "execution_count": null,
   "metadata": {},
   "outputs": [],
   "source": []
  }
 ],
 "metadata": {
  "kernelspec": {
   "display_name": "Python 3",
   "language": "python",
   "name": "python3"
  },
  "language_info": {
   "codemirror_mode": {
    "name": "ipython",
    "version": 3
   },
   "file_extension": ".py",
   "mimetype": "text/x-python",
   "name": "python",
   "nbconvert_exporter": "python",
   "pygments_lexer": "ipython3",
   "version": "3.7.5"
  },
  "varInspector": {
   "cols": {
    "lenName": 16,
    "lenType": 16,
    "lenVar": 40
   },
   "kernels_config": {
    "python": {
     "delete_cmd_postfix": "",
     "delete_cmd_prefix": "del ",
     "library": "var_list.py",
     "varRefreshCmd": "print(var_dic_list())"
    },
    "r": {
     "delete_cmd_postfix": ") ",
     "delete_cmd_prefix": "rm(",
     "library": "var_list.r",
     "varRefreshCmd": "cat(var_dic_list()) "
    }
   },
   "types_to_exclude": [
    "module",
    "function",
    "builtin_function_or_method",
    "instance",
    "_Feature"
   ],
   "window_display": false
  }
 },
 "nbformat": 4,
 "nbformat_minor": 2
}
