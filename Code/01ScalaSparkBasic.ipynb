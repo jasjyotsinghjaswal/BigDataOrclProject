{
 "cells": [
  {
   "cell_type": "markdown",
   "metadata": {},
   "source": [
    "# This notebook is going to teach you how to perform basic pyspark operations"
   ]
  },
  {
   "cell_type": "code",
   "execution_count": 1,
   "metadata": {},
   "outputs": [
    {
     "data": {
      "text/plain": [
       "Intitializing Scala interpreter ..."
      ]
     },
     "metadata": {},
     "output_type": "display_data"
    },
    {
     "data": {
      "text/plain": [
       "Spark Web UI available at http://DESKTOP-01M6UVV:4041\n",
       "SparkContext available as 'sc' (version = 2.4.3, master = local[*], app id = local-1605028214625)\n",
       "SparkSession available as 'spark'\n"
      ]
     },
     "metadata": {},
     "output_type": "display_data"
    },
    {
     "data": {
      "text/plain": [
       "input_dataset_path: String = C:/Users/Jasjyot Singh Jaswal/Documents/JupyterWB/BigDataOrclProject/InputDataset\r\n",
       "output_datset_path: String = C:/Users/Jasjyot Singh Jaswal/Documents/JupyterWB/BigDataOrclProject/OutputDataset\r\n",
       "output_datset_path_csv: String = C:/Users/Jasjyot Singh Jaswal/Documents/JupyterWB/BigDataOrclProject/OutputDataset/CSV\r\n",
       "output_datset_path_pipe: String = C:/Users/Jasjyot Singh Jaswal/Documents/JupyterWB/BigDataOrclProject/OutputDataset/PIPE\r\n",
       "output_datset_path_tab: String = C:/Users/Jasjyot Singh Jaswal/Documents/JupyterWB/BigDataOrclProject/OutputDataset/TAB\r\n",
       "output_datset_path_json: String = C:/Users/Jasjyot Singh Jaswal/Documents/JupyterWB/BigDataOrclProject/OutputDataset/JSON\n"
      ]
     },
     "execution_count": 1,
     "metadata": {},
     "output_type": "execute_result"
    }
   ],
   "source": [
    "// Initialise Input And Output Dataset Path Variables\n",
    "val input_dataset_path = \"C:/Users/Jasjyot Singh Jaswal/Documents/JupyterWB/BigDataOrclProject/InputDataset\"\n",
    "val output_datset_path = \"C:/Users/Jasjyot Singh Jaswal/Documents/JupyterWB/BigDataOrclProject/OutputDataset\"\n",
    "val output_datset_path_csv = s\"${output_datset_path}/CSV\"\n",
    "val output_datset_path_pipe = s\"${output_datset_path}/PIPE\"\n",
    "val output_datset_path_tab = s\"${output_datset_path}/TAB\"\n",
    "val output_datset_path_json = s\"${output_datset_path}/JSON\""
   ]
  },
  {
   "cell_type": "markdown",
   "metadata": {},
   "source": [
    "## Import Dependencies"
   ]
  },
  {
   "cell_type": "code",
   "execution_count": 119,
   "metadata": {},
   "outputs": [
    {
     "data": {
      "text/plain": [
       "import org.apache.spark.sql.functions.{col, explode, coalesce}\r\n",
       "import org.apache.spark.sql.functions.udf\r\n",
       "import org.apache.spark.sql.types.{LongType, StructType}\r\n",
       "import org.apache.spark.sql.types\r\n",
       "import org.apache.spark.sql.functions.udf\r\n",
       "import org.apache.spark.sql.{functions=>f}\r\n",
       "import org.apache.spark.sql.types.ArrayType\r\n",
       "import org.apache.spark.sql.functions.split\r\n",
       "import org.apache.spark.sql.types.StringType\r\n",
       "import org.apache.spark.sql.functions\r\n",
       "import org.apache.spark.sql.expressions.Window\r\n",
       "import org.apache.spark.sql.functions._\r\n",
       "import org.apache.spark.sql.SaveMode\n"
      ]
     },
     "execution_count": 119,
     "metadata": {},
     "output_type": "execute_result"
    }
   ],
   "source": [
    "//import findspark\n",
    "//findspark.init()\n",
    "//import pyspark # only run after findspark.init()\n",
    "import org.apache.spark.sql.functions.{col,explode,coalesce}\n",
    "//import org.apache.spark.sql import SparkSession\n",
    "import org.apache.spark.sql.functions.udf\n",
    "import org.apache.spark.sql.types.{LongType,StructType}\n",
    "import org.apache.spark.sql.types\n",
    "import org.apache.spark.sql.functions.udf\n",
    "import org.apache.spark.sql.{functions => f }\n",
    "//spark = SparkSession.builder.getOrCreate()\n",
    "import org.apache.spark.sql.types.ArrayType\n",
    "import org.apache.spark.sql.functions.split\n",
    "import org.apache.spark.sql.types.StringType\n",
    "import org.apache.spark.sql.functions\n",
    "import org.apache.spark.sql.expressions.Window\n",
    "import org.apache.spark.sql.functions._\n",
    "import org.apache.spark.sql.SaveMode"
   ]
  },
  {
   "cell_type": "markdown",
   "metadata": {},
   "source": [
    "## Load Input Dataset for Web Visitors and Display"
   ]
  },
  {
   "cell_type": "code",
   "execution_count": 3,
   "metadata": {
    "scrolled": true
   },
   "outputs": [
    {
     "name": "stdout",
     "output_type": "stream",
     "text": [
      "+----------+----------+----------+----------------------------------+------+---------------+\n",
      "|visitor_id|first_name|last_name |email                             |gender|ip_address     |\n",
      "+----------+----------+----------+----------------------------------+------+---------------+\n",
      "|1         |Marysa    |Arnull    |marnull0@t.co                     |Female|148.118.170.117|\n",
      "|2         |Alys      |Mapledoram|amapledoram1@amazon.co.jp         |Female|189.249.7.22   |\n",
      "|null      |Pepi      |Kilbourne |null                              |Female|84.196.181.206 |\n",
      "|4         |Irita     |Coltan    |icoltan3@reddit.com               |Female|103.96.233.190 |\n",
      "|5         |Wilburt   |Sheals    |wsheals4@ebay.com                 |Male  |51.106.36.130  |\n",
      "|6         |Viviene   |Ewestace  |vewestace5@cnbc.com               |Female|189.8.44.77    |\n",
      "|7         |Grange    |Bernhardt |gbernhardt6@nationalgeographic.com|Male  |237.92.0.252   |\n",
      "|8         |Boris     |Gladdish  |bgladdish7@rakuten.co.jp          |Male  |214.120.52.45  |\n",
      "|9         |Eldon     |Hamstead  |ehamstead8@issuu.com              |Male  |181.51.131.114 |\n",
      "|10        |Patrice   |Buske     |pbuske9@shop-pro.jp               |Male  |8.4.93.195     |\n",
      "|11        |Fallon    |Saint     |fsainta@youtu.be                  |Female|28.41.126.59   |\n",
      "|12        |Falkner   |Merrgan   |fmerrganb@mac.com                 |Male  |75.160.5.11    |\n",
      "|null      |Shanta    |Tumber    |null                              |Female|71.102.214.197 |\n",
      "|14        |Daloris   |Howood    |dhowoodd@jiathis.com              |Female|108.63.219.36  |\n",
      "|15        |Augustus  |Lockney   |alockneye@ehow.com                |Male  |62.178.138.189 |\n",
      "|16        |Cissy     |Fetherby  |cfetherbyf@ovh.net                |Female|49.136.89.178  |\n",
      "|17        |Evered    |Demsey    |edemseyg@cloudflare.com           |Male  |109.147.148.147|\n",
      "|18        |Rube      |Astill    |rastillh@timesonline.co.uk        |Male  |88.111.38.168  |\n",
      "|19        |Saunderson|Di Ruggero|sdiruggeroi@reverbnation.com      |Male  |205.216.12.141 |\n",
      "|20        |Frederick |Dow       |fdowj@bbc.co.uk                   |Male  |0.148.192.9    |\n",
      "+----------+----------+----------+----------------------------------+------+---------------+\n",
      "only showing top 20 rows\n",
      "\n"
     ]
    },
    {
     "data": {
      "text/plain": [
       "web_visits: org.apache.spark.sql.DataFrame = [visitor_id: string, first_name: string ... 4 more fields]\n"
      ]
     },
     "execution_count": 3,
     "metadata": {},
     "output_type": "execute_result"
    }
   ],
   "source": [
    "val web_visits = spark.read.option(\"header\", \"true\").csv(s\"${input_dataset_path}/webiste_visitor_data.csv\")\n",
    "web_visits.show(truncate=false)"
   ]
  },
  {
   "cell_type": "code",
   "execution_count": 4,
   "metadata": {},
   "outputs": [],
   "source": [
    "///  A. Selecting only First_Name,Last_Name,Email using Select API. \n",
    "///    Also renaming field Email to MailID using withColumnRenamed"
   ]
  },
  {
   "cell_type": "code",
   "execution_count": 5,
   "metadata": {},
   "outputs": [
    {
     "name": "stdout",
     "output_type": "stream",
     "text": [
      "+----------+----------+----------------------------------+\n",
      "|first_name|last_name |mail-id                           |\n",
      "+----------+----------+----------------------------------+\n",
      "|Marysa    |Arnull    |marnull0@t.co                     |\n",
      "|Alys      |Mapledoram|amapledoram1@amazon.co.jp         |\n",
      "|Pepi      |Kilbourne |null                              |\n",
      "|Irita     |Coltan    |icoltan3@reddit.com               |\n",
      "|Wilburt   |Sheals    |wsheals4@ebay.com                 |\n",
      "|Viviene   |Ewestace  |vewestace5@cnbc.com               |\n",
      "|Grange    |Bernhardt |gbernhardt6@nationalgeographic.com|\n",
      "|Boris     |Gladdish  |bgladdish7@rakuten.co.jp          |\n",
      "|Eldon     |Hamstead  |ehamstead8@issuu.com              |\n",
      "|Patrice   |Buske     |pbuske9@shop-pro.jp               |\n",
      "|Fallon    |Saint     |fsainta@youtu.be                  |\n",
      "|Falkner   |Merrgan   |fmerrganb@mac.com                 |\n",
      "|Shanta    |Tumber    |null                              |\n",
      "|Daloris   |Howood    |dhowoodd@jiathis.com              |\n",
      "|Augustus  |Lockney   |alockneye@ehow.com                |\n",
      "|Cissy     |Fetherby  |cfetherbyf@ovh.net                |\n",
      "|Evered    |Demsey    |edemseyg@cloudflare.com           |\n",
      "|Rube      |Astill    |rastillh@timesonline.co.uk        |\n",
      "|Saunderson|Di Ruggero|sdiruggeroi@reverbnation.com      |\n",
      "|Frederick |Dow       |fdowj@bbc.co.uk                   |\n",
      "+----------+----------+----------------------------------+\n",
      "only showing top 20 rows\n",
      "\n"
     ]
    },
    {
     "data": {
      "text/plain": [
       "web_visit_with_name_mail: org.apache.spark.sql.DataFrame = [first_name: string, last_name: string ... 1 more field]\n"
      ]
     },
     "execution_count": 5,
     "metadata": {},
     "output_type": "execute_result"
    }
   ],
   "source": [
    "val web_visit_with_name_mail = web_visits.select(\"first_name\",\"last_name\",\"email\").withColumnRenamed(\"email\",\"mail-id\")\n",
    "web_visit_with_name_mail.show(truncate=false)"
   ]
  },
  {
   "cell_type": "code",
   "execution_count": 6,
   "metadata": {},
   "outputs": [],
   "source": [
    "/// B. Selecting only IP Address & Gender by dropping other fields using DROP API"
   ]
  },
  {
   "cell_type": "code",
   "execution_count": 8,
   "metadata": {},
   "outputs": [
    {
     "name": "stdout",
     "output_type": "stream",
     "text": [
      "+------+---------------+\n",
      "|gender|ip_address     |\n",
      "+------+---------------+\n",
      "|Female|148.118.170.117|\n",
      "|Female|189.249.7.22   |\n",
      "|Female|84.196.181.206 |\n",
      "|Female|103.96.233.190 |\n",
      "|Male  |51.106.36.130  |\n",
      "|Female|189.8.44.77    |\n",
      "|Male  |237.92.0.252   |\n",
      "|Male  |214.120.52.45  |\n",
      "|Male  |181.51.131.114 |\n",
      "|Male  |8.4.93.195     |\n",
      "|Female|28.41.126.59   |\n",
      "|Male  |75.160.5.11    |\n",
      "|Female|71.102.214.197 |\n",
      "|Female|108.63.219.36  |\n",
      "|Male  |62.178.138.189 |\n",
      "|Female|49.136.89.178  |\n",
      "|Male  |109.147.148.147|\n",
      "|Male  |88.111.38.168  |\n",
      "|Male  |205.216.12.141 |\n",
      "|Male  |0.148.192.9    |\n",
      "+------+---------------+\n",
      "only showing top 20 rows\n",
      "\n"
     ]
    },
    {
     "data": {
      "text/plain": [
       "visitor_ip_gender: org.apache.spark.sql.DataFrame = [gender: string, ip_address: string]\n"
      ]
     },
     "execution_count": 8,
     "metadata": {},
     "output_type": "execute_result"
    }
   ],
   "source": [
    "val visitor_ip_gender = web_visits.drop(\"first_name\",\"last_name\",\"email\",\"visitor_id\")\n",
    "visitor_ip_gender.show(truncate=false)"
   ]
  },
  {
   "cell_type": "code",
   "execution_count": 9,
   "metadata": {},
   "outputs": [],
   "source": [
    "/// C. Show Simple Transformation such as Concat by using Oringinal Input by contactenating First & Last Name. \n",
    "///    Also Prefix Constant Mr. Or Mrs. depending on value of gender.\n",
    "///    Use function lit to append constants & When/Otherwise to evaluate condition for Gender\n",
    "///    For inappropriate gender or null values omit Mr/Mrs and simply concatenate"
   ]
  },
  {
   "cell_type": "code",
   "execution_count": 13,
   "metadata": {},
   "outputs": [
    {
     "name": "stdout",
     "output_type": "stream",
     "text": [
      "+----------+----------+----------+----------------------------------+------+---------------+------------------------+\n",
      "|visitor_id|first_name|last_name |email                             |gender|ip_address     |fullName                |\n",
      "+----------+----------+----------+----------------------------------+------+---------------+------------------------+\n",
      "|1         |Marysa    |Arnull    |marnull0@t.co                     |Female|148.118.170.117|Mrs. MarysaArnull       |\n",
      "|2         |Alys      |Mapledoram|amapledoram1@amazon.co.jp         |Female|189.249.7.22   |Mrs. AlysMapledoram     |\n",
      "|null      |Pepi      |Kilbourne |null                              |Female|84.196.181.206 |Mrs. PepiKilbourne      |\n",
      "|4         |Irita     |Coltan    |icoltan3@reddit.com               |Female|103.96.233.190 |Mrs. IritaColtan        |\n",
      "|5         |Wilburt   |Sheals    |wsheals4@ebay.com                 |Male  |51.106.36.130  |Mr. WilburtSheals       |\n",
      "|6         |Viviene   |Ewestace  |vewestace5@cnbc.com               |Female|189.8.44.77    |Mrs. VivieneEwestace    |\n",
      "|7         |Grange    |Bernhardt |gbernhardt6@nationalgeographic.com|Male  |237.92.0.252   |Mr. GrangeBernhardt     |\n",
      "|8         |Boris     |Gladdish  |bgladdish7@rakuten.co.jp          |Male  |214.120.52.45  |Mr. BorisGladdish       |\n",
      "|9         |Eldon     |Hamstead  |ehamstead8@issuu.com              |Male  |181.51.131.114 |Mr. EldonHamstead       |\n",
      "|10        |Patrice   |Buske     |pbuske9@shop-pro.jp               |Male  |8.4.93.195     |Mr. PatriceBuske        |\n",
      "|11        |Fallon    |Saint     |fsainta@youtu.be                  |Female|28.41.126.59   |Mrs. FallonSaint        |\n",
      "|12        |Falkner   |Merrgan   |fmerrganb@mac.com                 |Male  |75.160.5.11    |Mr. FalknerMerrgan      |\n",
      "|null      |Shanta    |Tumber    |null                              |Female|71.102.214.197 |Mrs. ShantaTumber       |\n",
      "|14        |Daloris   |Howood    |dhowoodd@jiathis.com              |Female|108.63.219.36  |Mrs. DalorisHowood      |\n",
      "|15        |Augustus  |Lockney   |alockneye@ehow.com                |Male  |62.178.138.189 |Mr. AugustusLockney     |\n",
      "|16        |Cissy     |Fetherby  |cfetherbyf@ovh.net                |Female|49.136.89.178  |Mrs. CissyFetherby      |\n",
      "|17        |Evered    |Demsey    |edemseyg@cloudflare.com           |Male  |109.147.148.147|Mr. EveredDemsey        |\n",
      "|18        |Rube      |Astill    |rastillh@timesonline.co.uk        |Male  |88.111.38.168  |Mr. RubeAstill          |\n",
      "|19        |Saunderson|Di Ruggero|sdiruggeroi@reverbnation.com      |Male  |205.216.12.141 |Mr. SaundersonDi Ruggero|\n",
      "|20        |Frederick |Dow       |fdowj@bbc.co.uk                   |Male  |0.148.192.9    |Mr. FrederickDow        |\n",
      "+----------+----------+----------+----------------------------------+------+---------------+------------------------+\n",
      "only showing top 20 rows\n",
      "\n"
     ]
    },
    {
     "data": {
      "text/plain": [
       "web_visit_with_fullname: org.apache.spark.sql.DataFrame = [visitor_id: string, first_name: string ... 5 more fields]\n"
      ]
     },
     "execution_count": 13,
     "metadata": {},
     "output_type": "execute_result"
    }
   ],
   "source": [
    "val web_visit_with_fullname = web_visits.withColumn(\"fullName\", when(col(\"gender\") === \"Male\",f.concat(lit(\"Mr. \"),col(\"first_name\"),col(\"last_name\"))).when(col(\"gender\") === \"Female\",f.concat(lit(\"Mrs. \"),col(\"first_name\"),col(\"last_name\"))).otherwise(f.concat(col(\"first_name\"),col(\"last_name\"))))\n",
    "web_visit_with_fullname.show(truncate=false)"
   ]
  },
  {
   "cell_type": "code",
   "execution_count": 14,
   "metadata": {},
   "outputs": [],
   "source": [
    "/// D.Filter Rows from Original source where Gender is Invalid & Display the sample along with count.\n",
    "///   Also validate the FullName values which do not have Mr. / Mrs. & Display the sample along with count from C.\n",
    "///   The Count for both should be the same validating the transformation applied is correct"
   ]
  },
  {
   "cell_type": "code",
   "execution_count": 15,
   "metadata": {},
   "outputs": [],
   "source": [
    "/// PART1 Check Source"
   ]
  },
  {
   "cell_type": "code",
   "execution_count": 27,
   "metadata": {},
   "outputs": [
    {
     "data": {
      "text/plain": [
       "org_rec_with_invalid_gender: org.apache.spark.sql.Dataset[org.apache.spark.sql.Row] = [visitor_id: string, first_name: string ... 4 more fields]\r\n",
       "src_invalid_gender_count: Long = 5\n"
      ]
     },
     "execution_count": 27,
     "metadata": {},
     "output_type": "execute_result"
    }
   ],
   "source": [
    "val org_rec_with_invalid_gender = web_visits.filter( (((col(\"gender\") === \"Male\") || (col(\"gender\") === \"Female\" )) !== true)  || (col(\"gender\").isNull === true )) \n",
    "val src_invalid_gender_count = org_rec_with_invalid_gender.count()"
   ]
  },
  {
   "cell_type": "code",
   "execution_count": 28,
   "metadata": {},
   "outputs": [
    {
     "name": "stdout",
     "output_type": "stream",
     "text": [
      "+----------+----------+---------+--------------------------+-------------+--------------+\n",
      "|visitor_id|first_name|last_name|email                     |gender       |ip_address    |\n",
      "+----------+----------+---------+--------------------------+-------------+--------------+\n",
      "|null      |Vasili    |Notman   |null                      |HRWMale      |240.10.38.196 |\n",
      "|109       |Ferrel    |Leopard  |fleopard30@feedburner.com |MaleDER      |175.110.87.150|\n",
      "|135       |Lavina    |Hardway  |lhardway3q@e-recht24.de   |FemalePNPSPAP|49.91.83.178  |\n",
      "|144       |Tabitha   |Wallen   |twallen3z@altervista.org  |null         |17.250.15.126 |\n",
      "|991       |Davin     |Ayer     |dayerri@barnesandnoble.com|null         |88.138.125.228|\n",
      "+----------+----------+---------+--------------------------+-------------+--------------+\n",
      "\n"
     ]
    }
   ],
   "source": [
    "org_rec_with_invalid_gender.show(truncate=false)"
   ]
  },
  {
   "cell_type": "code",
   "execution_count": 29,
   "metadata": {},
   "outputs": [
    {
     "data": {
      "text/plain": [
       "res13: Long = 5\n"
      ]
     },
     "execution_count": 29,
     "metadata": {},
     "output_type": "execute_result"
    }
   ],
   "source": [
    "src_invalid_gender_count"
   ]
  },
  {
   "cell_type": "code",
   "execution_count": null,
   "metadata": {},
   "outputs": [],
   "source": [
    "// PART2 Check Transformed Values.\n",
    "// Use startswith Function to ensure column Value Starts with Mr. or Mrs."
   ]
  },
  {
   "cell_type": "code",
   "execution_count": 34,
   "metadata": {},
   "outputs": [
    {
     "data": {
      "text/plain": [
       "output_rec_with_invalid_fullnm: org.apache.spark.sql.Dataset[org.apache.spark.sql.Row] = [visitor_id: string, first_name: string ... 5 more fields]\r\n",
       "invalid_fullnm_count: Long = 5\n"
      ]
     },
     "execution_count": 34,
     "metadata": {},
     "output_type": "execute_result"
    }
   ],
   "source": [
    "val output_rec_with_invalid_fullnm = web_visit_with_fullname.filter((col(\"fullName\").startsWith(\"Mr.\") !== true) && (col(\"fullName\").startsWith(\"Mrs.\") !== true))\n",
    "val invalid_fullnm_count = output_rec_with_invalid_fullnm.count()"
   ]
  },
  {
   "cell_type": "code",
   "execution_count": 35,
   "metadata": {},
   "outputs": [
    {
     "name": "stdout",
     "output_type": "stream",
     "text": [
      "+----------+----------+---------+--------------------------+-------------+--------------+-------------+\n",
      "|visitor_id|first_name|last_name|email                     |gender       |ip_address    |fullName     |\n",
      "+----------+----------+---------+--------------------------+-------------+--------------+-------------+\n",
      "|null      |Vasili    |Notman   |null                      |HRWMale      |240.10.38.196 |VasiliNotman |\n",
      "|109       |Ferrel    |Leopard  |fleopard30@feedburner.com |MaleDER      |175.110.87.150|FerrelLeopard|\n",
      "|135       |Lavina    |Hardway  |lhardway3q@e-recht24.de   |FemalePNPSPAP|49.91.83.178  |LavinaHardway|\n",
      "|144       |Tabitha   |Wallen   |twallen3z@altervista.org  |null         |17.250.15.126 |TabithaWallen|\n",
      "|991       |Davin     |Ayer     |dayerri@barnesandnoble.com|null         |88.138.125.228|DavinAyer    |\n",
      "+----------+----------+---------+--------------------------+-------------+--------------+-------------+\n",
      "\n"
     ]
    }
   ],
   "source": [
    "output_rec_with_invalid_fullnm.show(truncate=false)"
   ]
  },
  {
   "cell_type": "code",
   "execution_count": 36,
   "metadata": {},
   "outputs": [
    {
     "data": {
      "text/plain": [
       "res15: Long = 5\n"
      ]
     },
     "execution_count": 36,
     "metadata": {},
     "output_type": "execute_result"
    }
   ],
   "source": [
    "invalid_fullnm_count"
   ]
  },
  {
   "cell_type": "code",
   "execution_count": 37,
   "metadata": {},
   "outputs": [],
   "source": [
    "/// E. Find Counts And Display Rows Having null values for Visitor ID.\n",
    "/// Use Coalesce to use ip_address as visitor id, if visitor id is blank"
   ]
  },
  {
   "cell_type": "code",
   "execution_count": 38,
   "metadata": {},
   "outputs": [],
   "source": [
    "/// PART1 Find Counts of source with null values for visitor id and display sample\n",
    "/// Sort/OrderBy by ip_address to ensure same 20 results are visible before and after coalsesce"
   ]
  },
  {
   "cell_type": "code",
   "execution_count": 39,
   "metadata": {},
   "outputs": [
    {
     "data": {
      "text/plain": [
       "web_visits_null_visitorid: org.apache.spark.sql.Dataset[org.apache.spark.sql.Row] = [visitor_id: string, first_name: string ... 4 more fields]\r\n",
       "null_visitorid_count: Long = 65\n"
      ]
     },
     "execution_count": 39,
     "metadata": {},
     "output_type": "execute_result"
    }
   ],
   "source": [
    "val web_visits_null_visitorid = web_visits.filter(col(\"visitor_id\").isNull)\n",
    "val null_visitorid_count = web_visits_null_visitorid.count()"
   ]
  },
  {
   "cell_type": "code",
   "execution_count": 41,
   "metadata": {},
   "outputs": [
    {
     "name": "stdout",
     "output_type": "stream",
     "text": [
      "+----------+----------+---------+-----+-------+---------------+\n",
      "|visitor_id|first_name|last_name|email|gender |ip_address     |\n",
      "+----------+----------+---------+-----+-------+---------------+\n",
      "|null      |Kerk      |Realph   |null |Male   |97.11.198.152  |\n",
      "|null      |Mersey    |Edgeworth|null |Female |94.248.246.40  |\n",
      "|null      |Nobe      |Graalman |null |Male   |92.191.8.232   |\n",
      "|null      |Pepi      |Kilbourne|null |Female |84.196.181.206 |\n",
      "|null      |Carmelita |Camock   |null |Female |75.195.58.173  |\n",
      "|null      |Mack      |Poser    |null |Male   |72.122.182.45  |\n",
      "|null      |Shanta    |Tumber   |null |Female |71.102.214.197 |\n",
      "|null      |Irita     |Folli    |null |Female |7.217.3.163    |\n",
      "|null      |Rupert    |Stiegars |null |Male   |69.237.226.67  |\n",
      "|null      |Conant    |Hawler   |null |Male   |57.94.26.165   |\n",
      "|null      |Kippy     |Glisenan |null |Male   |55.81.243.209  |\n",
      "|null      |Stephenie |Kilpin   |null |Female |53.48.126.221  |\n",
      "|null      |Vania     |Wrassell |null |Female |50.209.34.232  |\n",
      "|null      |Denna     |Reston   |null |Female |48.246.113.39  |\n",
      "|null      |Sonnie    |Jenkinson|null |Male   |45.54.66.84    |\n",
      "|null      |Christye  |Colcutt  |null |Female |26.177.62.144  |\n",
      "|null      |Llewellyn |Bulpitt  |null |Male   |255.212.85.194 |\n",
      "|null      |Casi      |Stonnell |null |Female |249.207.212.211|\n",
      "|null      |Blisse    |Guisby   |null |Female |249.15.78.182  |\n",
      "|null      |Vasili    |Notman   |null |HRWMale|240.10.38.196  |\n",
      "+----------+----------+---------+-----+-------+---------------+\n",
      "only showing top 20 rows\n",
      "\n"
     ]
    }
   ],
   "source": [
    "web_visits_null_visitorid.orderBy(col(\"ip_address\").desc).show(truncate=false)"
   ]
  },
  {
   "cell_type": "code",
   "execution_count": 42,
   "metadata": {},
   "outputs": [
    {
     "data": {
      "text/plain": [
       "res20: Long = 65\n"
      ]
     },
     "execution_count": 42,
     "metadata": {},
     "output_type": "execute_result"
    }
   ],
   "source": [
    "null_visitorid_count"
   ]
  },
  {
   "cell_type": "code",
   "execution_count": 43,
   "metadata": {},
   "outputs": [],
   "source": [
    "/// PART2 ApplyCoalesce Transformation for Source\n",
    "/// Filter visitorid having '.' using contains function to find how many records were impacted by coalesce & Take count.\n",
    "/// Display Sample Records and Sort/OrderBy IP Address descending to compare same set of records"
   ]
  },
  {
   "cell_type": "code",
   "execution_count": 44,
   "metadata": {},
   "outputs": [
    {
     "data": {
      "text/plain": [
       "web_visits_coalesced_visitorid: org.apache.spark.sql.DataFrame = [visitor_id: string, first_name: string ... 4 more fields]\n"
      ]
     },
     "execution_count": 44,
     "metadata": {},
     "output_type": "execute_result"
    }
   ],
   "source": [
    "val web_visits_coalesced_visitorid = web_visits.withColumn(\"visitor_id\",coalesce(col(\"visitor_id\"),col(\"ip_address\")))"
   ]
  },
  {
   "cell_type": "code",
   "execution_count": 45,
   "metadata": {},
   "outputs": [
    {
     "name": "stdout",
     "output_type": "stream",
     "text": [
      "+--------------+----------+----------+----------------------------------+------+---------------+\n",
      "|visitor_id    |first_name|last_name |email                             |gender|ip_address     |\n",
      "+--------------+----------+----------+----------------------------------+------+---------------+\n",
      "|1             |Marysa    |Arnull    |marnull0@t.co                     |Female|148.118.170.117|\n",
      "|2             |Alys      |Mapledoram|amapledoram1@amazon.co.jp         |Female|189.249.7.22   |\n",
      "|84.196.181.206|Pepi      |Kilbourne |null                              |Female|84.196.181.206 |\n",
      "|4             |Irita     |Coltan    |icoltan3@reddit.com               |Female|103.96.233.190 |\n",
      "|5             |Wilburt   |Sheals    |wsheals4@ebay.com                 |Male  |51.106.36.130  |\n",
      "|6             |Viviene   |Ewestace  |vewestace5@cnbc.com               |Female|189.8.44.77    |\n",
      "|7             |Grange    |Bernhardt |gbernhardt6@nationalgeographic.com|Male  |237.92.0.252   |\n",
      "|8             |Boris     |Gladdish  |bgladdish7@rakuten.co.jp          |Male  |214.120.52.45  |\n",
      "|9             |Eldon     |Hamstead  |ehamstead8@issuu.com              |Male  |181.51.131.114 |\n",
      "|10            |Patrice   |Buske     |pbuske9@shop-pro.jp               |Male  |8.4.93.195     |\n",
      "|11            |Fallon    |Saint     |fsainta@youtu.be                  |Female|28.41.126.59   |\n",
      "|12            |Falkner   |Merrgan   |fmerrganb@mac.com                 |Male  |75.160.5.11    |\n",
      "|71.102.214.197|Shanta    |Tumber    |null                              |Female|71.102.214.197 |\n",
      "|14            |Daloris   |Howood    |dhowoodd@jiathis.com              |Female|108.63.219.36  |\n",
      "|15            |Augustus  |Lockney   |alockneye@ehow.com                |Male  |62.178.138.189 |\n",
      "|16            |Cissy     |Fetherby  |cfetherbyf@ovh.net                |Female|49.136.89.178  |\n",
      "|17            |Evered    |Demsey    |edemseyg@cloudflare.com           |Male  |109.147.148.147|\n",
      "|18            |Rube      |Astill    |rastillh@timesonline.co.uk        |Male  |88.111.38.168  |\n",
      "|19            |Saunderson|Di Ruggero|sdiruggeroi@reverbnation.com      |Male  |205.216.12.141 |\n",
      "|20            |Frederick |Dow       |fdowj@bbc.co.uk                   |Male  |0.148.192.9    |\n",
      "+--------------+----------+----------+----------------------------------+------+---------------+\n",
      "only showing top 20 rows\n",
      "\n"
     ]
    }
   ],
   "source": [
    "web_visits_coalesced_visitorid.show(truncate=false)"
   ]
  },
  {
   "cell_type": "code",
   "execution_count": 46,
   "metadata": {},
   "outputs": [
    {
     "data": {
      "text/plain": [
       "coalesced_visitorid_records: org.apache.spark.sql.Dataset[org.apache.spark.sql.Row] = [visitor_id: string, first_name: string ... 4 more fields]\r\n",
       "coalesced_records_count: Long = 65\n"
      ]
     },
     "execution_count": 46,
     "metadata": {},
     "output_type": "execute_result"
    }
   ],
   "source": [
    "val coalesced_visitorid_records = web_visits_coalesced_visitorid.filter(col(\"visitor_id\").contains(\".\"))\n",
    "val coalesced_records_count = coalesced_visitorid_records.count()"
   ]
  },
  {
   "cell_type": "code",
   "execution_count": 47,
   "metadata": {},
   "outputs": [
    {
     "name": "stdout",
     "output_type": "stream",
     "text": [
      "+---------------+----------+---------+-----+-------+---------------+\n",
      "|visitor_id     |first_name|last_name|email|gender |ip_address     |\n",
      "+---------------+----------+---------+-----+-------+---------------+\n",
      "|97.11.198.152  |Kerk      |Realph   |null |Male   |97.11.198.152  |\n",
      "|94.248.246.40  |Mersey    |Edgeworth|null |Female |94.248.246.40  |\n",
      "|92.191.8.232   |Nobe      |Graalman |null |Male   |92.191.8.232   |\n",
      "|84.196.181.206 |Pepi      |Kilbourne|null |Female |84.196.181.206 |\n",
      "|75.195.58.173  |Carmelita |Camock   |null |Female |75.195.58.173  |\n",
      "|72.122.182.45  |Mack      |Poser    |null |Male   |72.122.182.45  |\n",
      "|71.102.214.197 |Shanta    |Tumber   |null |Female |71.102.214.197 |\n",
      "|7.217.3.163    |Irita     |Folli    |null |Female |7.217.3.163    |\n",
      "|69.237.226.67  |Rupert    |Stiegars |null |Male   |69.237.226.67  |\n",
      "|57.94.26.165   |Conant    |Hawler   |null |Male   |57.94.26.165   |\n",
      "|55.81.243.209  |Kippy     |Glisenan |null |Male   |55.81.243.209  |\n",
      "|53.48.126.221  |Stephenie |Kilpin   |null |Female |53.48.126.221  |\n",
      "|50.209.34.232  |Vania     |Wrassell |null |Female |50.209.34.232  |\n",
      "|48.246.113.39  |Denna     |Reston   |null |Female |48.246.113.39  |\n",
      "|45.54.66.84    |Sonnie    |Jenkinson|null |Male   |45.54.66.84    |\n",
      "|26.177.62.144  |Christye  |Colcutt  |null |Female |26.177.62.144  |\n",
      "|255.212.85.194 |Llewellyn |Bulpitt  |null |Male   |255.212.85.194 |\n",
      "|249.207.212.211|Casi      |Stonnell |null |Female |249.207.212.211|\n",
      "|249.15.78.182  |Blisse    |Guisby   |null |Female |249.15.78.182  |\n",
      "|240.10.38.196  |Vasili    |Notman   |null |HRWMale|240.10.38.196  |\n",
      "+---------------+----------+---------+-----+-------+---------------+\n",
      "only showing top 20 rows\n",
      "\n"
     ]
    }
   ],
   "source": [
    "coalesced_visitorid_records.orderBy(col(\"ip_address\").desc).show(truncate=false)"
   ]
  },
  {
   "cell_type": "code",
   "execution_count": 48,
   "metadata": {},
   "outputs": [
    {
     "data": {
      "text/plain": [
       "res24: Long = 65\n"
      ]
     },
     "execution_count": 48,
     "metadata": {},
     "output_type": "execute_result"
    }
   ],
   "source": [
    "coalesced_records_count"
   ]
  },
  {
   "cell_type": "code",
   "execution_count": 49,
   "metadata": {},
   "outputs": [],
   "source": [
    "/// F. Drop Records having null values in columns\n",
    "/// In this sample dataset we have Null values in some rows of Email / Visitor ID / or Gender\n",
    "/// First find & display such rows and display count & also display count\n",
    "/// Also display rows that have atleast null values in 2 columns(Email and Visitor ID)"
   ]
  },
  {
   "cell_type": "code",
   "execution_count": 50,
   "metadata": {},
   "outputs": [
    {
     "data": {
      "text/plain": [
       "web_visits_null_records: org.apache.spark.sql.Dataset[org.apache.spark.sql.Row] = [visitor_id: string, first_name: string ... 4 more fields]\r\n",
       "null_records_count: Long = 67\r\n",
       "total_web_visit_count: Long = 1000\n"
      ]
     },
     "execution_count": 50,
     "metadata": {},
     "output_type": "execute_result"
    }
   ],
   "source": [
    "val web_visits_null_records = web_visits.filter(col(\"visitor_id\").isNull || col(\"email\").isNull || col(\"gender\").isNull)\n",
    "val null_records_count = web_visits_null_records.count()\n",
    "val total_web_visit_count = web_visits.count()"
   ]
  },
  {
   "cell_type": "code",
   "execution_count": 51,
   "metadata": {},
   "outputs": [
    {
     "name": "stdout",
     "output_type": "stream",
     "text": [
      "+----------+----------+----------+------------------------+-------+---------------+\n",
      "|visitor_id|first_name|last_name |email                   |gender |ip_address     |\n",
      "+----------+----------+----------+------------------------+-------+---------------+\n",
      "|null      |Pepi      |Kilbourne |null                    |Female |84.196.181.206 |\n",
      "|null      |Shanta    |Tumber    |null                    |Female |71.102.214.197 |\n",
      "|null      |Hillary   |Renackowna|null                    |Male   |205.12.233.232 |\n",
      "|null      |Guilbert  |Rodrigues |null                    |Male   |204.226.140.111|\n",
      "|null      |Gloriana  |Saward    |null                    |Female |232.180.22.68  |\n",
      "|null      |Rochell   |O'Sheeryne|null                    |Female |214.169.197.119|\n",
      "|null      |Vasili    |Notman    |null                    |HRWMale|240.10.38.196  |\n",
      "|null      |Rupert    |Stiegars  |null                    |Male   |69.237.226.67  |\n",
      "|144       |Tabitha   |Wallen    |twallen3z@altervista.org|null   |17.250.15.126  |\n",
      "|null      |Malynda   |Bartosiak |null                    |Female |139.232.58.236 |\n",
      "|null      |Carmelita |Camock    |null                    |Female |75.195.58.173  |\n",
      "|null      |Stormi    |Tapenden  |null                    |Female |134.255.103.78 |\n",
      "|null      |Pip       |Devany    |null                    |Male   |174.143.163.22 |\n",
      "|null      |Craggy    |Labrenz   |null                    |Male   |193.70.236.47  |\n",
      "|null      |Hasty     |Brunesco  |null                    |Male   |137.11.179.215 |\n",
      "|null      |Inge      |Glauber   |null                    |Female |219.33.250.156 |\n",
      "|null      |Calli     |Hardage   |null                    |Female |141.31.117.66  |\n",
      "|null      |Griff     |Marnes    |null                    |Male   |16.159.81.155  |\n",
      "|null      |Lemuel    |Torrecilla|null                    |Male   |143.42.59.237  |\n",
      "|null      |Nobe      |Graalman  |null                    |Male   |92.191.8.232   |\n",
      "+----------+----------+----------+------------------------+-------+---------------+\n",
      "only showing top 20 rows\n",
      "\n"
     ]
    }
   ],
   "source": [
    "web_visits_null_records.show(truncate=false)"
   ]
  },
  {
   "cell_type": "code",
   "execution_count": 52,
   "metadata": {},
   "outputs": [
    {
     "data": {
      "text/plain": [
       "res27: Long = 67\n"
      ]
     },
     "execution_count": 52,
     "metadata": {},
     "output_type": "execute_result"
    }
   ],
   "source": [
    "null_records_count"
   ]
  },
  {
   "cell_type": "code",
   "execution_count": 53,
   "metadata": {},
   "outputs": [
    {
     "data": {
      "text/plain": [
       "res28: Long = 1000\n"
      ]
     },
     "execution_count": 53,
     "metadata": {},
     "output_type": "execute_result"
    }
   ],
   "source": [
    "total_web_visit_count"
   ]
  },
  {
   "cell_type": "code",
   "execution_count": 54,
   "metadata": {},
   "outputs": [],
   "source": [
    "/// PART 1. Dropping all records with null value in any column using dropna function"
   ]
  },
  {
   "cell_type": "code",
   "execution_count": 60,
   "metadata": {},
   "outputs": [
    {
     "data": {
      "text/plain": [
       "web_visits_no_nulls: org.apache.spark.sql.DataFrame = [visitor_id: string, first_name: string ... 4 more fields]\r\n",
       "web_visits_no_nulls_cnt: Long = 933\n"
      ]
     },
     "execution_count": 60,
     "metadata": {},
     "output_type": "execute_result"
    }
   ],
   "source": [
    "val web_visits_no_nulls = web_visits.na.drop()\n",
    "val web_visits_no_nulls_cnt = web_visits_no_nulls.count()"
   ]
  },
  {
   "cell_type": "code",
   "execution_count": 61,
   "metadata": {},
   "outputs": [
    {
     "name": "stdout",
     "output_type": "stream",
     "text": [
      "+----------+----------+----------+----------------------------------+------+---------------+\n",
      "|visitor_id|first_name|last_name |email                             |gender|ip_address     |\n",
      "+----------+----------+----------+----------------------------------+------+---------------+\n",
      "|1         |Marysa    |Arnull    |marnull0@t.co                     |Female|148.118.170.117|\n",
      "|2         |Alys      |Mapledoram|amapledoram1@amazon.co.jp         |Female|189.249.7.22   |\n",
      "|4         |Irita     |Coltan    |icoltan3@reddit.com               |Female|103.96.233.190 |\n",
      "|5         |Wilburt   |Sheals    |wsheals4@ebay.com                 |Male  |51.106.36.130  |\n",
      "|6         |Viviene   |Ewestace  |vewestace5@cnbc.com               |Female|189.8.44.77    |\n",
      "|7         |Grange    |Bernhardt |gbernhardt6@nationalgeographic.com|Male  |237.92.0.252   |\n",
      "|8         |Boris     |Gladdish  |bgladdish7@rakuten.co.jp          |Male  |214.120.52.45  |\n",
      "|9         |Eldon     |Hamstead  |ehamstead8@issuu.com              |Male  |181.51.131.114 |\n",
      "|10        |Patrice   |Buske     |pbuske9@shop-pro.jp               |Male  |8.4.93.195     |\n",
      "|11        |Fallon    |Saint     |fsainta@youtu.be                  |Female|28.41.126.59   |\n",
      "|12        |Falkner   |Merrgan   |fmerrganb@mac.com                 |Male  |75.160.5.11    |\n",
      "|14        |Daloris   |Howood    |dhowoodd@jiathis.com              |Female|108.63.219.36  |\n",
      "|15        |Augustus  |Lockney   |alockneye@ehow.com                |Male  |62.178.138.189 |\n",
      "|16        |Cissy     |Fetherby  |cfetherbyf@ovh.net                |Female|49.136.89.178  |\n",
      "|17        |Evered    |Demsey    |edemseyg@cloudflare.com           |Male  |109.147.148.147|\n",
      "|18        |Rube      |Astill    |rastillh@timesonline.co.uk        |Male  |88.111.38.168  |\n",
      "|19        |Saunderson|Di Ruggero|sdiruggeroi@reverbnation.com      |Male  |205.216.12.141 |\n",
      "|20        |Frederick |Dow       |fdowj@bbc.co.uk                   |Male  |0.148.192.9    |\n",
      "|21        |Darin     |Makeswell |dmakeswellk@mac.com               |Male  |252.141.137.183|\n",
      "|22        |Derril    |Turnock   |dturnockl@cornell.edu             |Male  |143.201.115.87 |\n",
      "+----------+----------+----------+----------------------------------+------+---------------+\n",
      "only showing top 20 rows\n",
      "\n"
     ]
    }
   ],
   "source": [
    "web_visits_no_nulls.show(truncate=false)"
   ]
  },
  {
   "cell_type": "code",
   "execution_count": 62,
   "metadata": {},
   "outputs": [
    {
     "data": {
      "text/plain": [
       "res31: Long = 933\n"
      ]
     },
     "execution_count": 62,
     "metadata": {},
     "output_type": "execute_result"
    }
   ],
   "source": [
    "web_visits_no_nulls_cnt"
   ]
  },
  {
   "cell_type": "code",
   "execution_count": null,
   "metadata": {},
   "outputs": [],
   "source": [
    "/// Total Output Records =  1000\n",
    "/// Records with Null Values in 1 or more columns = 67\n",
    "/// Records after Rows with null values removed = 933\n",
    "/// 1000 = 933+67"
   ]
  },
  {
   "cell_type": "code",
   "execution_count": 63,
   "metadata": {},
   "outputs": [],
   "source": [
    "/// PART 2. Dropping all records with null value for a particular column\n",
    "///         Use subset parameter with dropna.\n",
    "///         You can specify  multiple values for array subset to drop only rows containing null for specific columns\n",
    "///         Display Dataframe with Null values for Gender , Display Final Dataframe with rows removed with null values only for Gender"
   ]
  },
  {
   "cell_type": "code",
   "execution_count": 66,
   "metadata": {},
   "outputs": [
    {
     "data": {
      "text/plain": [
       "web_visits_null_gender_only: org.apache.spark.sql.Dataset[org.apache.spark.sql.Row] = [visitor_id: string, first_name: string ... 4 more fields]\r\n",
       "null_gender_count: Long = 2\n"
      ]
     },
     "execution_count": 66,
     "metadata": {},
     "output_type": "execute_result"
    }
   ],
   "source": [
    "val web_visits_null_gender_only = web_visits.filter(col(\"gender\").isNull)\n",
    "val null_gender_count = web_visits_null_gender_only.count()"
   ]
  },
  {
   "cell_type": "code",
   "execution_count": 67,
   "metadata": {},
   "outputs": [
    {
     "name": "stdout",
     "output_type": "stream",
     "text": [
      "+----------+----------+---------+--------------------------+------+--------------+\n",
      "|visitor_id|first_name|last_name|email                     |gender|ip_address    |\n",
      "+----------+----------+---------+--------------------------+------+--------------+\n",
      "|144       |Tabitha   |Wallen   |twallen3z@altervista.org  |null  |17.250.15.126 |\n",
      "|991       |Davin     |Ayer     |dayerri@barnesandnoble.com|null  |88.138.125.228|\n",
      "+----------+----------+---------+--------------------------+------+--------------+\n",
      "\n"
     ]
    }
   ],
   "source": [
    "web_visits_null_gender_only.show(truncate=false)"
   ]
  },
  {
   "cell_type": "code",
   "execution_count": 68,
   "metadata": {},
   "outputs": [
    {
     "data": {
      "text/plain": [
       "res34: Long = 2\n"
      ]
     },
     "execution_count": 68,
     "metadata": {},
     "output_type": "execute_result"
    }
   ],
   "source": [
    "null_gender_count"
   ]
  },
  {
   "cell_type": "code",
   "execution_count": 82,
   "metadata": {},
   "outputs": [
    {
     "data": {
      "text/plain": [
       "web_visits_remove_null_gender: org.apache.spark.sql.DataFrame = [visitor_id: string, first_name: string ... 4 more fields]\r\n",
       "web_visits_remove_null_gender_cnt: Long = 998\n"
      ]
     },
     "execution_count": 82,
     "metadata": {},
     "output_type": "execute_result"
    }
   ],
   "source": [
    "val web_visits_remove_null_gender = web_visits.na.drop(cols=Seq(\"gender\"))\n",
    "val web_visits_remove_null_gender_cnt = web_visits_remove_null_gender.count()"
   ]
  },
  {
   "cell_type": "code",
   "execution_count": 83,
   "metadata": {},
   "outputs": [
    {
     "name": "stdout",
     "output_type": "stream",
     "text": [
      "+----------+----------+----------+----------------------------------+------+---------------+\n",
      "|visitor_id|first_name|last_name |email                             |gender|ip_address     |\n",
      "+----------+----------+----------+----------------------------------+------+---------------+\n",
      "|1         |Marysa    |Arnull    |marnull0@t.co                     |Female|148.118.170.117|\n",
      "|2         |Alys      |Mapledoram|amapledoram1@amazon.co.jp         |Female|189.249.7.22   |\n",
      "|null      |Pepi      |Kilbourne |null                              |Female|84.196.181.206 |\n",
      "|4         |Irita     |Coltan    |icoltan3@reddit.com               |Female|103.96.233.190 |\n",
      "|5         |Wilburt   |Sheals    |wsheals4@ebay.com                 |Male  |51.106.36.130  |\n",
      "|6         |Viviene   |Ewestace  |vewestace5@cnbc.com               |Female|189.8.44.77    |\n",
      "|7         |Grange    |Bernhardt |gbernhardt6@nationalgeographic.com|Male  |237.92.0.252   |\n",
      "|8         |Boris     |Gladdish  |bgladdish7@rakuten.co.jp          |Male  |214.120.52.45  |\n",
      "|9         |Eldon     |Hamstead  |ehamstead8@issuu.com              |Male  |181.51.131.114 |\n",
      "|10        |Patrice   |Buske     |pbuske9@shop-pro.jp               |Male  |8.4.93.195     |\n",
      "|11        |Fallon    |Saint     |fsainta@youtu.be                  |Female|28.41.126.59   |\n",
      "|12        |Falkner   |Merrgan   |fmerrganb@mac.com                 |Male  |75.160.5.11    |\n",
      "|null      |Shanta    |Tumber    |null                              |Female|71.102.214.197 |\n",
      "|14        |Daloris   |Howood    |dhowoodd@jiathis.com              |Female|108.63.219.36  |\n",
      "|15        |Augustus  |Lockney   |alockneye@ehow.com                |Male  |62.178.138.189 |\n",
      "|16        |Cissy     |Fetherby  |cfetherbyf@ovh.net                |Female|49.136.89.178  |\n",
      "|17        |Evered    |Demsey    |edemseyg@cloudflare.com           |Male  |109.147.148.147|\n",
      "|18        |Rube      |Astill    |rastillh@timesonline.co.uk        |Male  |88.111.38.168  |\n",
      "|19        |Saunderson|Di Ruggero|sdiruggeroi@reverbnation.com      |Male  |205.216.12.141 |\n",
      "|20        |Frederick |Dow       |fdowj@bbc.co.uk                   |Male  |0.148.192.9    |\n",
      "+----------+----------+----------+----------------------------------+------+---------------+\n",
      "only showing top 20 rows\n",
      "\n"
     ]
    }
   ],
   "source": [
    "web_visits_remove_null_gender.show(truncate=false)"
   ]
  },
  {
   "cell_type": "code",
   "execution_count": 84,
   "metadata": {},
   "outputs": [
    {
     "data": {
      "text/plain": [
       "res36: Long = 998\n"
      ]
     },
     "execution_count": 84,
     "metadata": {},
     "output_type": "execute_result"
    }
   ],
   "source": [
    "web_visits_remove_null_gender_cnt"
   ]
  },
  {
   "cell_type": "code",
   "execution_count": 85,
   "metadata": {},
   "outputs": [],
   "source": [
    "/// Total Output Records =  1000\n",
    "/// Records with Null Values in Gender = 2\n",
    "/// Records after Rows with null values removed = 998\n",
    "/// 1000 = 998+2"
   ]
  },
  {
   "cell_type": "code",
   "execution_count": 86,
   "metadata": {},
   "outputs": [],
   "source": [
    "/// PART 3. Dropping all records with null value for at least 2 columns use dropna with thres key and subset array"
   ]
  },
  {
   "cell_type": "code",
   "execution_count": 87,
   "metadata": {},
   "outputs": [
    {
     "data": {
      "text/plain": [
       "web_visits_2null_cols: org.apache.spark.sql.Dataset[org.apache.spark.sql.Row] = [visitor_id: string, first_name: string ... 4 more fields]\r\n",
       "null_2cols_count: Long = 65\n"
      ]
     },
     "execution_count": 87,
     "metadata": {},
     "output_type": "execute_result"
    }
   ],
   "source": [
    "val web_visits_2null_cols = web_visits.filter(col(\"visitor_id\").isNull && col(\"email\").isNull)\n",
    "val null_2cols_count = web_visits_2null_cols.count()"
   ]
  },
  {
   "cell_type": "code",
   "execution_count": 88,
   "metadata": {},
   "outputs": [
    {
     "name": "stdout",
     "output_type": "stream",
     "text": [
      "+----------+----------+----------+-----+-------+---------------+\n",
      "|visitor_id|first_name|last_name |email|gender |ip_address     |\n",
      "+----------+----------+----------+-----+-------+---------------+\n",
      "|null      |Pepi      |Kilbourne |null |Female |84.196.181.206 |\n",
      "|null      |Shanta    |Tumber    |null |Female |71.102.214.197 |\n",
      "|null      |Hillary   |Renackowna|null |Male   |205.12.233.232 |\n",
      "|null      |Guilbert  |Rodrigues |null |Male   |204.226.140.111|\n",
      "|null      |Gloriana  |Saward    |null |Female |232.180.22.68  |\n",
      "|null      |Rochell   |O'Sheeryne|null |Female |214.169.197.119|\n",
      "|null      |Vasili    |Notman    |null |HRWMale|240.10.38.196  |\n",
      "|null      |Rupert    |Stiegars  |null |Male   |69.237.226.67  |\n",
      "|null      |Malynda   |Bartosiak |null |Female |139.232.58.236 |\n",
      "|null      |Carmelita |Camock    |null |Female |75.195.58.173  |\n",
      "|null      |Stormi    |Tapenden  |null |Female |134.255.103.78 |\n",
      "|null      |Pip       |Devany    |null |Male   |174.143.163.22 |\n",
      "|null      |Craggy    |Labrenz   |null |Male   |193.70.236.47  |\n",
      "|null      |Hasty     |Brunesco  |null |Male   |137.11.179.215 |\n",
      "|null      |Inge      |Glauber   |null |Female |219.33.250.156 |\n",
      "|null      |Calli     |Hardage   |null |Female |141.31.117.66  |\n",
      "|null      |Griff     |Marnes    |null |Male   |16.159.81.155  |\n",
      "|null      |Lemuel    |Torrecilla|null |Male   |143.42.59.237  |\n",
      "|null      |Nobe      |Graalman  |null |Male   |92.191.8.232   |\n",
      "|null      |Conant    |Hawler    |null |Male   |57.94.26.165   |\n",
      "+----------+----------+----------+-----+-------+---------------+\n",
      "only showing top 20 rows\n",
      "\n"
     ]
    }
   ],
   "source": [
    "web_visits_2null_cols.show(truncate=false)"
   ]
  },
  {
   "cell_type": "code",
   "execution_count": 89,
   "metadata": {},
   "outputs": [
    {
     "data": {
      "text/plain": [
       "res40: Long = 65\n"
      ]
     },
     "execution_count": 89,
     "metadata": {},
     "output_type": "execute_result"
    }
   ],
   "source": [
    "null_2cols_count"
   ]
  },
  {
   "cell_type": "code",
   "execution_count": 95,
   "metadata": {},
   "outputs": [
    {
     "data": {
      "text/plain": [
       "web_visits_2null_cols_rmv: org.apache.spark.sql.DataFrame = [visitor_id: string, first_name: string ... 4 more fields]\r\n",
       "web_visits_2null_cols_rmv_cnt: Long = 935\n"
      ]
     },
     "execution_count": 95,
     "metadata": {},
     "output_type": "execute_result"
    }
   ],
   "source": [
    "val web_visits_2null_cols_rmv = web_visits.na.drop(minNonNulls=2,cols=Seq(\"visitor_id\",\"email\",\"gender\"))\n",
    "val web_visits_2null_cols_rmv_cnt = web_visits_2null_cols_rmv.count()"
   ]
  },
  {
   "cell_type": "code",
   "execution_count": 96,
   "metadata": {},
   "outputs": [
    {
     "name": "stdout",
     "output_type": "stream",
     "text": [
      "+----------+----------+----------+----------------------------------+------+---------------+\n",
      "|visitor_id|first_name|last_name |email                             |gender|ip_address     |\n",
      "+----------+----------+----------+----------------------------------+------+---------------+\n",
      "|1         |Marysa    |Arnull    |marnull0@t.co                     |Female|148.118.170.117|\n",
      "|2         |Alys      |Mapledoram|amapledoram1@amazon.co.jp         |Female|189.249.7.22   |\n",
      "|4         |Irita     |Coltan    |icoltan3@reddit.com               |Female|103.96.233.190 |\n",
      "|5         |Wilburt   |Sheals    |wsheals4@ebay.com                 |Male  |51.106.36.130  |\n",
      "|6         |Viviene   |Ewestace  |vewestace5@cnbc.com               |Female|189.8.44.77    |\n",
      "|7         |Grange    |Bernhardt |gbernhardt6@nationalgeographic.com|Male  |237.92.0.252   |\n",
      "|8         |Boris     |Gladdish  |bgladdish7@rakuten.co.jp          |Male  |214.120.52.45  |\n",
      "|9         |Eldon     |Hamstead  |ehamstead8@issuu.com              |Male  |181.51.131.114 |\n",
      "|10        |Patrice   |Buske     |pbuske9@shop-pro.jp               |Male  |8.4.93.195     |\n",
      "|11        |Fallon    |Saint     |fsainta@youtu.be                  |Female|28.41.126.59   |\n",
      "|12        |Falkner   |Merrgan   |fmerrganb@mac.com                 |Male  |75.160.5.11    |\n",
      "|14        |Daloris   |Howood    |dhowoodd@jiathis.com              |Female|108.63.219.36  |\n",
      "|15        |Augustus  |Lockney   |alockneye@ehow.com                |Male  |62.178.138.189 |\n",
      "|16        |Cissy     |Fetherby  |cfetherbyf@ovh.net                |Female|49.136.89.178  |\n",
      "|17        |Evered    |Demsey    |edemseyg@cloudflare.com           |Male  |109.147.148.147|\n",
      "|18        |Rube      |Astill    |rastillh@timesonline.co.uk        |Male  |88.111.38.168  |\n",
      "|19        |Saunderson|Di Ruggero|sdiruggeroi@reverbnation.com      |Male  |205.216.12.141 |\n",
      "|20        |Frederick |Dow       |fdowj@bbc.co.uk                   |Male  |0.148.192.9    |\n",
      "|21        |Darin     |Makeswell |dmakeswellk@mac.com               |Male  |252.141.137.183|\n",
      "|22        |Derril    |Turnock   |dturnockl@cornell.edu             |Male  |143.201.115.87 |\n",
      "+----------+----------+----------+----------------------------------+------+---------------+\n",
      "only showing top 20 rows\n",
      "\n"
     ]
    }
   ],
   "source": [
    "web_visits_2null_cols_rmv.show(truncate=false)"
   ]
  },
  {
   "cell_type": "code",
   "execution_count": 97,
   "metadata": {},
   "outputs": [
    {
     "data": {
      "text/plain": [
       "res42: Long = 935\n"
      ]
     },
     "execution_count": 97,
     "metadata": {},
     "output_type": "execute_result"
    }
   ],
   "source": [
    "web_visits_2null_cols_rmv_cnt"
   ]
  },
  {
   "cell_type": "code",
   "execution_count": 98,
   "metadata": {},
   "outputs": [],
   "source": [
    "/// Total Output Records =  1000\n",
    "/// Records with Null Values in 2 or more columns = 65\n",
    "/// Records after Rows with null values removed = 935\n",
    "/// 1000 = 935+65"
   ]
  },
  {
   "cell_type": "code",
   "execution_count": 99,
   "metadata": {},
   "outputs": [],
   "source": [
    "/// G . Fill Records with null values\n",
    "/// Display Records with 1 or more null columns for comparision after transformations"
   ]
  },
  {
   "cell_type": "code",
   "execution_count": 101,
   "metadata": {},
   "outputs": [
    {
     "name": "stdout",
     "output_type": "stream",
     "text": [
      "+----------+----------+----------+------------------------+-------+---------------+\n",
      "|visitor_id|first_name|last_name |email                   |gender |ip_address     |\n",
      "+----------+----------+----------+------------------------+-------+---------------+\n",
      "|null      |Pepi      |Kilbourne |null                    |Female |84.196.181.206 |\n",
      "|null      |Shanta    |Tumber    |null                    |Female |71.102.214.197 |\n",
      "|null      |Hillary   |Renackowna|null                    |Male   |205.12.233.232 |\n",
      "|null      |Guilbert  |Rodrigues |null                    |Male   |204.226.140.111|\n",
      "|null      |Gloriana  |Saward    |null                    |Female |232.180.22.68  |\n",
      "|null      |Rochell   |O'Sheeryne|null                    |Female |214.169.197.119|\n",
      "|null      |Vasili    |Notman    |null                    |HRWMale|240.10.38.196  |\n",
      "|null      |Rupert    |Stiegars  |null                    |Male   |69.237.226.67  |\n",
      "|144       |Tabitha   |Wallen    |twallen3z@altervista.org|null   |17.250.15.126  |\n",
      "|null      |Malynda   |Bartosiak |null                    |Female |139.232.58.236 |\n",
      "|null      |Carmelita |Camock    |null                    |Female |75.195.58.173  |\n",
      "|null      |Stormi    |Tapenden  |null                    |Female |134.255.103.78 |\n",
      "|null      |Pip       |Devany    |null                    |Male   |174.143.163.22 |\n",
      "|null      |Craggy    |Labrenz   |null                    |Male   |193.70.236.47  |\n",
      "|null      |Hasty     |Brunesco  |null                    |Male   |137.11.179.215 |\n",
      "|null      |Inge      |Glauber   |null                    |Female |219.33.250.156 |\n",
      "|null      |Calli     |Hardage   |null                    |Female |141.31.117.66  |\n",
      "|null      |Griff     |Marnes    |null                    |Male   |16.159.81.155  |\n",
      "|null      |Lemuel    |Torrecilla|null                    |Male   |143.42.59.237  |\n",
      "|null      |Nobe      |Graalman  |null                    |Male   |92.191.8.232   |\n",
      "+----------+----------+----------+------------------------+-------+---------------+\n",
      "only showing top 20 rows\n",
      "\n"
     ]
    },
    {
     "data": {
      "text/plain": [
       "rows_with_null_values: org.apache.spark.sql.Dataset[org.apache.spark.sql.Row] = [visitor_id: string, first_name: string ... 4 more fields]\n"
      ]
     },
     "execution_count": 101,
     "metadata": {},
     "output_type": "execute_result"
    }
   ],
   "source": [
    "val rows_with_null_values = web_visits.filter(col(\"visitor_id\").isNull || col(\"email\").isNull || col(\"gender\").isNull)\n",
    "rows_with_null_values.show(truncate=false)"
   ]
  },
  {
   "cell_type": "code",
   "execution_count": 102,
   "metadata": {},
   "outputs": [],
   "source": [
    "/// PART1. Fill Null values for all columns for all rows using fillna"
   ]
  },
  {
   "cell_type": "code",
   "execution_count": 104,
   "metadata": {},
   "outputs": [
    {
     "name": "stdout",
     "output_type": "stream",
     "text": [
      "+--------------+----------+----------+------------------------+--------------+---------------+\n",
      "|visitor_id    |first_name|last_name |email                   |gender        |ip_address     |\n",
      "+--------------+----------+----------+------------------------+--------------+---------------+\n",
      "|INVALID_RECORD|Pepi      |Kilbourne |INVALID_RECORD          |Female        |84.196.181.206 |\n",
      "|INVALID_RECORD|Shanta    |Tumber    |INVALID_RECORD          |Female        |71.102.214.197 |\n",
      "|INVALID_RECORD|Hillary   |Renackowna|INVALID_RECORD          |Male          |205.12.233.232 |\n",
      "|INVALID_RECORD|Guilbert  |Rodrigues |INVALID_RECORD          |Male          |204.226.140.111|\n",
      "|INVALID_RECORD|Gloriana  |Saward    |INVALID_RECORD          |Female        |232.180.22.68  |\n",
      "|INVALID_RECORD|Rochell   |O'Sheeryne|INVALID_RECORD          |Female        |214.169.197.119|\n",
      "|INVALID_RECORD|Vasili    |Notman    |INVALID_RECORD          |HRWMale       |240.10.38.196  |\n",
      "|INVALID_RECORD|Rupert    |Stiegars  |INVALID_RECORD          |Male          |69.237.226.67  |\n",
      "|144           |Tabitha   |Wallen    |twallen3z@altervista.org|INVALID_RECORD|17.250.15.126  |\n",
      "|INVALID_RECORD|Malynda   |Bartosiak |INVALID_RECORD          |Female        |139.232.58.236 |\n",
      "|INVALID_RECORD|Carmelita |Camock    |INVALID_RECORD          |Female        |75.195.58.173  |\n",
      "|INVALID_RECORD|Stormi    |Tapenden  |INVALID_RECORD          |Female        |134.255.103.78 |\n",
      "|INVALID_RECORD|Pip       |Devany    |INVALID_RECORD          |Male          |174.143.163.22 |\n",
      "|INVALID_RECORD|Craggy    |Labrenz   |INVALID_RECORD          |Male          |193.70.236.47  |\n",
      "|INVALID_RECORD|Hasty     |Brunesco  |INVALID_RECORD          |Male          |137.11.179.215 |\n",
      "|INVALID_RECORD|Inge      |Glauber   |INVALID_RECORD          |Female        |219.33.250.156 |\n",
      "|INVALID_RECORD|Calli     |Hardage   |INVALID_RECORD          |Female        |141.31.117.66  |\n",
      "|INVALID_RECORD|Griff     |Marnes    |INVALID_RECORD          |Male          |16.159.81.155  |\n",
      "|INVALID_RECORD|Lemuel    |Torrecilla|INVALID_RECORD          |Male          |143.42.59.237  |\n",
      "|INVALID_RECORD|Nobe      |Graalman  |INVALID_RECORD          |Male          |92.191.8.232   |\n",
      "+--------------+----------+----------+------------------------+--------------+---------------+\n",
      "only showing top 20 rows\n",
      "\n"
     ]
    },
    {
     "data": {
      "text/plain": [
       "rows_fill_null_values: org.apache.spark.sql.DataFrame = [visitor_id: string, first_name: string ... 4 more fields]\n"
      ]
     },
     "execution_count": 104,
     "metadata": {},
     "output_type": "execute_result"
    }
   ],
   "source": [
    "val rows_fill_null_values = rows_with_null_values.na.fill(\"INVALID_RECORD\")\n",
    "rows_fill_null_values.show(truncate=false)"
   ]
  },
  {
   "cell_type": "code",
   "execution_count": null,
   "metadata": {},
   "outputs": [],
   "source": [
    "/// You can compare the source and transformed records to see modified values for  NULL Columns"
   ]
  },
  {
   "cell_type": "code",
   "execution_count": 105,
   "metadata": {},
   "outputs": [],
   "source": [
    "/// PART2. Fill Null values for specified columns with specific values using subset array argument along with fillna\n",
    "///        Replace Only Null Email Columns"
   ]
  },
  {
   "cell_type": "code",
   "execution_count": 107,
   "metadata": {},
   "outputs": [
    {
     "name": "stdout",
     "output_type": "stream",
     "text": [
      "+----------+----------+----------+------------------------+-------+---------------+\n",
      "|visitor_id|first_name|last_name |email                   |gender |ip_address     |\n",
      "+----------+----------+----------+------------------------+-------+---------------+\n",
      "|null      |Pepi      |Kilbourne |10.0.0.0                |Female |84.196.181.206 |\n",
      "|null      |Shanta    |Tumber    |10.0.0.0                |Female |71.102.214.197 |\n",
      "|null      |Hillary   |Renackowna|10.0.0.0                |Male   |205.12.233.232 |\n",
      "|null      |Guilbert  |Rodrigues |10.0.0.0                |Male   |204.226.140.111|\n",
      "|null      |Gloriana  |Saward    |10.0.0.0                |Female |232.180.22.68  |\n",
      "|null      |Rochell   |O'Sheeryne|10.0.0.0                |Female |214.169.197.119|\n",
      "|null      |Vasili    |Notman    |10.0.0.0                |HRWMale|240.10.38.196  |\n",
      "|null      |Rupert    |Stiegars  |10.0.0.0                |Male   |69.237.226.67  |\n",
      "|144       |Tabitha   |Wallen    |twallen3z@altervista.org|null   |17.250.15.126  |\n",
      "|null      |Malynda   |Bartosiak |10.0.0.0                |Female |139.232.58.236 |\n",
      "|null      |Carmelita |Camock    |10.0.0.0                |Female |75.195.58.173  |\n",
      "|null      |Stormi    |Tapenden  |10.0.0.0                |Female |134.255.103.78 |\n",
      "|null      |Pip       |Devany    |10.0.0.0                |Male   |174.143.163.22 |\n",
      "|null      |Craggy    |Labrenz   |10.0.0.0                |Male   |193.70.236.47  |\n",
      "|null      |Hasty     |Brunesco  |10.0.0.0                |Male   |137.11.179.215 |\n",
      "|null      |Inge      |Glauber   |10.0.0.0                |Female |219.33.250.156 |\n",
      "|null      |Calli     |Hardage   |10.0.0.0                |Female |141.31.117.66  |\n",
      "|null      |Griff     |Marnes    |10.0.0.0                |Male   |16.159.81.155  |\n",
      "|null      |Lemuel    |Torrecilla|10.0.0.0                |Male   |143.42.59.237  |\n",
      "|null      |Nobe      |Graalman  |10.0.0.0                |Male   |92.191.8.232   |\n",
      "+----------+----------+----------+------------------------+-------+---------------+\n",
      "only showing top 20 rows\n",
      "\n"
     ]
    },
    {
     "data": {
      "text/plain": [
       "rows_fill_null_email_values: org.apache.spark.sql.DataFrame = [visitor_id: string, first_name: string ... 4 more fields]\n"
      ]
     },
     "execution_count": 107,
     "metadata": {},
     "output_type": "execute_result"
    }
   ],
   "source": [
    "val rows_fill_null_email_values = rows_with_null_values.na.fill(value=\"10.0.0.0\",cols=Seq(\"email\"))\n",
    "rows_fill_null_email_values.show(truncate=false)"
   ]
  },
  {
   "cell_type": "markdown",
   "metadata": {},
   "source": [
    "# Store all output records in CSV,TSV,| as well as JSON from Example Transformations in A,B,C,D,E,F,G"
   ]
  },
  {
   "cell_type": "code",
   "execution_count": 108,
   "metadata": {},
   "outputs": [],
   "source": [
    "// Persist all the output transformation to ensure they are not computed multiple times"
   ]
  },
  {
   "cell_type": "code",
   "execution_count": 109,
   "metadata": {},
   "outputs": [
    {
     "data": {
      "text/plain": [
       "res54: rows_fill_null_email_values.type = [visitor_id: string, first_name: string ... 4 more fields]\n"
      ]
     },
     "execution_count": 109,
     "metadata": {},
     "output_type": "execute_result"
    }
   ],
   "source": [
    "web_visit_with_name_mail.persist()\n",
    "visitor_ip_gender.persist()\n",
    "web_visit_with_fullname.persist()\n",
    "web_visits_coalesced_visitorid.persist()\n",
    "web_visits_no_nulls.persist()\n",
    "web_visits_remove_null_gender.persist()\n",
    "web_visits_2null_cols_rmv.persist()\n",
    "rows_fill_null_values.persist()\n",
    "rows_fill_null_email_values.persist()"
   ]
  },
  {
   "cell_type": "code",
   "execution_count": 120,
   "metadata": {},
   "outputs": [],
   "source": [
    "// Writing Records in CSV,TSV,| and JSON for web_visit_with_name_mail\n",
    "web_visit_with_name_mail.write.mode(SaveMode.Overwrite).format(\"csv\").option(\"delimiter\",\",\").option(\"header\",\"true\").save(s\"${output_datset_path_csv}/web_visit_with_name_mail\")\n",
    "web_visit_with_name_mail.write.mode(SaveMode.Overwrite).format(\"csv\").option(\"delimiter\",\"\\t\").option(\"header\",\"true\").save(s\"${output_datset_path_tab}/web_visit_with_name_mail\")\n",
    "web_visit_with_name_mail.write.mode(SaveMode.Overwrite).format(\"csv\").option(\"delimiter\",\"|\").option(\"header\",\"true\").save(s\"${output_datset_path_pipe}/web_visit_with_name_mail\")\n",
    "web_visit_with_name_mail.write.mode(SaveMode.Overwrite).format(\"json\").save(s\"${output_datset_path_json}/web_visit_with_name_mail\")"
   ]
  },
  {
   "cell_type": "code",
   "execution_count": 125,
   "metadata": {},
   "outputs": [],
   "source": [
    "// Writing Records in CSV,TSV,| and JSON for visitor_ip_gender\n",
    "visitor_ip_gender.write.mode(SaveMode.Overwrite).format(\"csv\").option(\"delimiter\",\",\").option(\"header\",\"true\").save(s\"${output_datset_path_csv}/visitor_ip_gender\")\n",
    "visitor_ip_gender.write.mode(SaveMode.Overwrite).format(\"csv\").option(\"delimiter\",\"\\t\").option(\"header\",\"true\").save(s\"${output_datset_path_tab}/visitor_ip_gender\")\n",
    "visitor_ip_gender.write.mode(SaveMode.Overwrite).format(\"csv\").option(\"delimiter\",\"|\").option(\"header\",\"true\").save(s\"${output_datset_path_pipe}/visitor_ip_gender\")\n",
    "visitor_ip_gender.write.mode(SaveMode.Overwrite).format(\"json\").save(s\"${output_datset_path_json}/visitor_ip_gender\")"
   ]
  },
  {
   "cell_type": "code",
   "execution_count": 127,
   "metadata": {},
   "outputs": [],
   "source": [
    "// Writing Records in CSV,TSV,| and JSON for web_visit_with_fullname\n",
    "web_visit_with_fullname.write.mode(SaveMode.Overwrite).format(\"csv\").option(\"delimiter\",\",\").option(\"header\",\"true\").save(s\"${output_datset_path_csv}/web_visit_with_fullname\")\n",
    "web_visit_with_fullname.write.mode(SaveMode.Overwrite).format(\"csv\").option(\"delimiter\",\"\\t\").option(\"header\",\"true\").save(s\"${output_datset_path_tab}/web_visit_with_fullname\")\n",
    "web_visit_with_fullname.write.mode(SaveMode.Overwrite).format(\"csv\").option(\"delimiter\",\"|\").option(\"header\",\"true\").save(s\"${output_datset_path_pipe}/web_visit_with_fullname\")\n",
    "web_visit_with_fullname.write.mode(SaveMode.Overwrite).format(\"json\").save(s\"${output_datset_path_json}/web_visit_with_fullname\")"
   ]
  },
  {
   "cell_type": "code",
   "execution_count": 128,
   "metadata": {},
   "outputs": [],
   "source": [
    "// Writing Records in CSV,TSV,| and JSON for web_visits_coalesced_visitorid\n",
    "web_visits_coalesced_visitorid.write.mode(SaveMode.Overwrite).format(\"csv\").option(\"delimiter\",\",\").option(\"header\",\"true\").save(s\"${output_datset_path_csv}/web_visits_coalesced_visitorid\")\n",
    "web_visits_coalesced_visitorid.write.mode(SaveMode.Overwrite).format(\"csv\").option(\"delimiter\",\"\\t\").option(\"header\",\"true\").save(s\"${output_datset_path_tab}/web_visits_coalesced_visitorid\")\n",
    "web_visits_coalesced_visitorid.write.mode(SaveMode.Overwrite).format(\"csv\").option(\"delimiter\",\"|\").option(\"header\",\"true\").save(s\"${output_datset_path_pipe}/web_visits_coalesced_visitorid\")\n",
    "web_visits_coalesced_visitorid.write.mode(SaveMode.Overwrite).format(\"json\").save(s\"${output_datset_path_json}/web_visits_coalesced_visitorid\")"
   ]
  },
  {
   "cell_type": "code",
   "execution_count": 131,
   "metadata": {},
   "outputs": [],
   "source": [
    "// Writing Records in CSV,TSV,| and JSON for web_visits_no_nulls\n",
    "web_visits_no_nulls.write.mode(SaveMode.Overwrite).format(\"csv\").option(\"delimiter\",\",\").option(\"header\",\"true\").save(s\"${output_datset_path_csv}/web_visits_no_nulls\")\n",
    "web_visits_no_nulls.write.mode(SaveMode.Overwrite).format(\"csv\").option(\"delimiter\",\"\\t\").option(\"header\",\"true\").save(s\"${output_datset_path_tab}/web_visits_no_nulls\")\n",
    "web_visits_no_nulls.write.mode(SaveMode.Overwrite).format(\"csv\").option(\"delimiter\",\"|\").option(\"header\",\"true\").save(s\"${output_datset_path_pipe}/web_visits_no_nulls\")\n",
    "web_visits_no_nulls.write.mode(SaveMode.Overwrite).format(\"json\").save(s\"${output_datset_path_json}/web_visits_no_nulls\")"
   ]
  },
  {
   "cell_type": "code",
   "execution_count": 134,
   "metadata": {},
   "outputs": [],
   "source": [
    "// Writing Records in CSV,TSV,| and JSON for web_visits_remove_null_gender\n",
    "web_visits_remove_null_gender.write.mode(SaveMode.Overwrite).format(\"csv\").option(\"delimiter\",\",\").option(\"header\",\"true\").save(s\"${output_datset_path_csv}/web_visits_remove_null_gender\")\n",
    "web_visits_remove_null_gender.write.mode(SaveMode.Overwrite).format(\"csv\").option(\"delimiter\",\"\\t\").option(\"header\",\"true\").save(s\"${output_datset_path_tab}/web_visits_remove_null_gender\")\n",
    "web_visits_remove_null_gender.write.mode(SaveMode.Overwrite).format(\"csv\").option(\"delimiter\",\"|\").option(\"header\",\"true\").save(s\"${output_datset_path_pipe}/web_visits_remove_null_gender\")\n",
    "web_visits_remove_null_gender.write.mode(SaveMode.Overwrite).format(\"json\").save(s\"${output_datset_path_json}/web_visits_remove_null_gender\")"
   ]
  },
  {
   "cell_type": "code",
   "execution_count": 135,
   "metadata": {},
   "outputs": [],
   "source": [
    "// Writing Records in CSV,TSV,| and JSON for web_visits_2null_cols_rmv\n",
    "web_visits_2null_cols_rmv.write.mode(SaveMode.Overwrite).format(\"csv\").option(\"delimiter\",\",\").option(\"header\",\"true\").save(s\"${output_datset_path_csv}/web_visits_2null_cols_rmv\")\n",
    "web_visits_2null_cols_rmv.write.mode(SaveMode.Overwrite).format(\"csv\").option(\"delimiter\",\"\\t\").option(\"header\",\"true\").save(s\"${output_datset_path_tab}/web_visits_2null_cols_rmv\")\n",
    "web_visits_2null_cols_rmv.write.mode(SaveMode.Overwrite).format(\"csv\").option(\"delimiter\",\"|\").option(\"header\",\"true\").save(s\"${output_datset_path_pipe}/web_visits_2null_cols_rmv\")\n",
    "web_visits_2null_cols_rmv.write.mode(SaveMode.Overwrite).format(\"json\").save(s\"${output_datset_path_json}/web_visits_2null_cols_rmv\")"
   ]
  },
  {
   "cell_type": "code",
   "execution_count": 136,
   "metadata": {},
   "outputs": [],
   "source": [
    "// Writing Records in CSV,TSV,| and JSON for rows_fill_null_values\n",
    "rows_fill_null_values.write.mode(SaveMode.Overwrite).format(\"csv\").option(\"delimiter\",\",\").option(\"header\",\"true\").save(s\"${output_datset_path_csv}/rows_fill_null_values\")\n",
    "rows_fill_null_values.write.mode(SaveMode.Overwrite).format(\"csv\").option(\"delimiter\",\"\\t\").option(\"header\",\"true\").save(s\"${output_datset_path_tab}/rows_fill_null_values\")\n",
    "rows_fill_null_values.write.mode(SaveMode.Overwrite).format(\"csv\").option(\"delimiter\",\"|\").option(\"header\",\"true\").save(s\"${output_datset_path_pipe}/rows_fill_null_values\")\n",
    "rows_fill_null_values.write.mode(SaveMode.Overwrite).format(\"json\").save(s\"${output_datset_path_json}/rows_fill_null_values\")"
   ]
  },
  {
   "cell_type": "code",
   "execution_count": 137,
   "metadata": {},
   "outputs": [],
   "source": [
    "// Writing Records in CSV,TSV,| and JSON for rows_fill_null_email_values\n",
    "rows_fill_null_email_values.write.mode(SaveMode.Overwrite).format(\"csv\").option(\"delimiter\",\",\").option(\"header\",\"true\").save(s\"${output_datset_path_csv}/rows_fill_null_email_values\")\n",
    "rows_fill_null_email_values.write.mode(SaveMode.Overwrite).format(\"csv\").option(\"delimiter\",\"\\t\").option(\"header\",\"true\").save(s\"${output_datset_path_tab}/rows_fill_null_email_values\")\n",
    "rows_fill_null_email_values.write.mode(SaveMode.Overwrite).format(\"csv\").option(\"delimiter\",\"|\").option(\"header\",\"true\").save(s\"${output_datset_path_pipe}/rows_fill_null_email_values\")\n",
    "rows_fill_null_email_values.write.mode(SaveMode.Overwrite).format(\"json\").save(s\"${output_datset_path_json}/rows_fill_null_email_values\")"
   ]
  },
  {
   "cell_type": "code",
   "execution_count": null,
   "metadata": {},
   "outputs": [],
   "source": []
  }
 ],
 "metadata": {
  "kernelspec": {
   "display_name": "spylon-kernel",
   "language": "scala",
   "name": "spylon-kernel"
  },
  "language_info": {
   "codemirror_mode": "text/x-scala",
   "file_extension": ".scala",
   "help_links": [
    {
     "text": "MetaKernel Magics",
     "url": "https://metakernel.readthedocs.io/en/latest/source/README.html"
    }
   ],
   "mimetype": "text/x-scala",
   "name": "scala",
   "pygments_lexer": "scala",
   "version": "0.4.1"
  },
  "varInspector": {
   "cols": {
    "lenName": 16,
    "lenType": 16,
    "lenVar": 40
   },
   "kernels_config": {
    "python": {
     "delete_cmd_postfix": "",
     "delete_cmd_prefix": "del ",
     "library": "var_list.py",
     "varRefreshCmd": "print(var_dic_list())"
    },
    "r": {
     "delete_cmd_postfix": ") ",
     "delete_cmd_prefix": "rm(",
     "library": "var_list.r",
     "varRefreshCmd": "cat(var_dic_list()) "
    }
   },
   "types_to_exclude": [
    "module",
    "function",
    "builtin_function_or_method",
    "instance",
    "_Feature"
   ],
   "window_display": false
  }
 },
 "nbformat": 4,
 "nbformat_minor": 2
}
